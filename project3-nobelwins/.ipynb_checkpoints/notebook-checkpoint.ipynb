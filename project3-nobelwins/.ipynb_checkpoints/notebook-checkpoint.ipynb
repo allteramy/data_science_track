{
 "cells": [
  {
   "cell_type": "markdown",
   "id": "db5bd2ce-918a-4f7d-a927-a3ea74c4b456",
   "metadata": {},
   "source": [
    "## Project #3 \n",
    "\n",
    "## Visualizing the History of Nobel Prize Winners\n",
    "\n",
    "The Nobel Prize has been among the most prestigious international awards since 1901. Each year, awards are bestowed in chemistry, literature, physics, physiology or medicine, economics, and peace. In addition to the honor, prestige, and substantial prize money, the recipient also gets a gold medal with an image of Alfred Nobel (1833 - 1896), who established the prize.\n",
    "\n",
    "The Nobel Foundation has made a dataset available of all prize winners from the outset of the awards from 1901 to 2023. The dataset used in this project is from the Nobel Prize API and is available in the `nobel.csv` file in the `data` folder.\n",
    "\n",
    "In this project, you'll get a chance to explore and answer several questions related to this prizewinning data. And we encourage you then to explore further questions that you're interested in!\n",
    "\n",
    "## Project Instructions\n",
    "\n",
    "Analyze Nobel Prize winner data and identify patterns by answering the following questions:\n",
    "\n",
    "- What is the most commonly awarded gender and birth country?\n",
    "\n",
    "    Store your answers as string variables `top_gender` and `top_country`.\n",
    "<br>\n",
    "\n",
    "- Which decade had the highest ratio of US-born Nobel Prize winners to total winners in all categories?\n",
    "\n",
    "    Store this as an integer called `max_decade_usa`.\n",
    "<br>\n",
    "\n",
    "- Which decade and Nobel Prize category combination had the highest proportion of female laureates?\n",
    "\n",
    "    Store this as a dictionary called `max_female_dict` where the decade is the key and the category is the value. There should only be one key:value pair.\n",
    "<br>\n",
    "- Who was the first woman to receive a Nobel Prize, and in what category?\n",
    "\n",
    "    Save your string answers as `first_woman_name` and `first_woman_category`.\n",
    "<br>\n",
    "- Which individuals or organizations have won more than one Nobel Prize throughout the years?\n",
    "\n",
    "    Store the full names in a list `named repeat_list`."
   ]
  },
  {
   "cell_type": "code",
   "execution_count": 31,
   "id": "11fd5946-7bd1-495c-aa7f-ff6e7e4a350b",
   "metadata": {
    "executionCancelledAt": null,
    "executionTime": 56,
    "lastExecutedAt": 1733173297697,
    "lastExecutedByKernel": "7c10251f-943c-45fc-a88e-6219fad984e0",
    "lastScheduledRunId": null,
    "lastSuccessfullyExecutedCode": "# Loading in required libraries\nimport pandas as pd\nimport seaborn as sns\nimport numpy as np"
   },
   "outputs": [],
   "source": [
    "# Loading in required libraries\n",
    "import pandas as pd\n",
    "import seaborn as sns\n",
    "import numpy as np"
   ]
  },
  {
   "cell_type": "code",
   "execution_count": 2,
   "id": "0b6678ab-28f6-46b6-b6fb-adef56fbeebd",
   "metadata": {
    "executionCancelledAt": null,
    "executionTime": 52,
    "lastExecutedAt": 1733173297749,
    "lastExecutedByKernel": "7c10251f-943c-45fc-a88e-6219fad984e0",
    "lastScheduledRunId": null,
    "lastSuccessfullyExecutedCode": "nobel_winners = pd.read_csv(\"data/nobel.csv\")"
   },
   "outputs": [],
   "source": [
    "nobel_winners = pd.read_csv(\"data/nobel.csv\")"
   ]
  },
  {
   "cell_type": "code",
   "execution_count": 3,
   "id": "ee3e20da-f5cf-4db5-9db4-41caf154f26a",
   "metadata": {
    "executionCancelledAt": null,
    "executionTime": 56,
    "lastExecutedAt": 1733173297805,
    "lastExecutedByKernel": "7c10251f-943c-45fc-a88e-6219fad984e0",
    "lastScheduledRunId": null,
    "lastSuccessfullyExecutedCode": "nobel_winners.head()",
    "outputsMetadata": {
     "0": {
      "height": 266,
      "type": "dataFrame"
     }
    }
   },
   "outputs": [
    {
     "data": {
      "text/html": [
       "<div>\n",
       "<style scoped>\n",
       "    .dataframe tbody tr th:only-of-type {\n",
       "        vertical-align: middle;\n",
       "    }\n",
       "\n",
       "    .dataframe tbody tr th {\n",
       "        vertical-align: top;\n",
       "    }\n",
       "\n",
       "    .dataframe thead th {\n",
       "        text-align: right;\n",
       "    }\n",
       "</style>\n",
       "<table border=\"1\" class=\"dataframe\">\n",
       "  <thead>\n",
       "    <tr style=\"text-align: right;\">\n",
       "      <th></th>\n",
       "      <th>year</th>\n",
       "      <th>category</th>\n",
       "      <th>prize</th>\n",
       "      <th>motivation</th>\n",
       "      <th>prize_share</th>\n",
       "      <th>laureate_id</th>\n",
       "      <th>laureate_type</th>\n",
       "      <th>full_name</th>\n",
       "      <th>birth_date</th>\n",
       "      <th>birth_city</th>\n",
       "      <th>birth_country</th>\n",
       "      <th>sex</th>\n",
       "      <th>organization_name</th>\n",
       "      <th>organization_city</th>\n",
       "      <th>organization_country</th>\n",
       "      <th>death_date</th>\n",
       "      <th>death_city</th>\n",
       "      <th>death_country</th>\n",
       "    </tr>\n",
       "  </thead>\n",
       "  <tbody>\n",
       "    <tr>\n",
       "      <th>0</th>\n",
       "      <td>1901</td>\n",
       "      <td>Chemistry</td>\n",
       "      <td>The Nobel Prize in Chemistry 1901</td>\n",
       "      <td>\"in recognition of the extraordinary services ...</td>\n",
       "      <td>1/1</td>\n",
       "      <td>160</td>\n",
       "      <td>Individual</td>\n",
       "      <td>Jacobus Henricus van 't Hoff</td>\n",
       "      <td>1852-08-30</td>\n",
       "      <td>Rotterdam</td>\n",
       "      <td>Netherlands</td>\n",
       "      <td>Male</td>\n",
       "      <td>Berlin University</td>\n",
       "      <td>Berlin</td>\n",
       "      <td>Germany</td>\n",
       "      <td>1911-03-01</td>\n",
       "      <td>Berlin</td>\n",
       "      <td>Germany</td>\n",
       "    </tr>\n",
       "    <tr>\n",
       "      <th>1</th>\n",
       "      <td>1901</td>\n",
       "      <td>Literature</td>\n",
       "      <td>The Nobel Prize in Literature 1901</td>\n",
       "      <td>\"in special recognition of his poetic composit...</td>\n",
       "      <td>1/1</td>\n",
       "      <td>569</td>\n",
       "      <td>Individual</td>\n",
       "      <td>Sully Prudhomme</td>\n",
       "      <td>1839-03-16</td>\n",
       "      <td>Paris</td>\n",
       "      <td>France</td>\n",
       "      <td>Male</td>\n",
       "      <td>NaN</td>\n",
       "      <td>NaN</td>\n",
       "      <td>NaN</td>\n",
       "      <td>1907-09-07</td>\n",
       "      <td>Châtenay</td>\n",
       "      <td>France</td>\n",
       "    </tr>\n",
       "    <tr>\n",
       "      <th>2</th>\n",
       "      <td>1901</td>\n",
       "      <td>Medicine</td>\n",
       "      <td>The Nobel Prize in Physiology or Medicine 1901</td>\n",
       "      <td>\"for his work on serum therapy, especially its...</td>\n",
       "      <td>1/1</td>\n",
       "      <td>293</td>\n",
       "      <td>Individual</td>\n",
       "      <td>Emil Adolf von Behring</td>\n",
       "      <td>1854-03-15</td>\n",
       "      <td>Hansdorf (Lawice)</td>\n",
       "      <td>Prussia (Poland)</td>\n",
       "      <td>Male</td>\n",
       "      <td>Marburg University</td>\n",
       "      <td>Marburg</td>\n",
       "      <td>Germany</td>\n",
       "      <td>1917-03-31</td>\n",
       "      <td>Marburg</td>\n",
       "      <td>Germany</td>\n",
       "    </tr>\n",
       "    <tr>\n",
       "      <th>3</th>\n",
       "      <td>1901</td>\n",
       "      <td>Peace</td>\n",
       "      <td>The Nobel Peace Prize 1901</td>\n",
       "      <td>NaN</td>\n",
       "      <td>1/2</td>\n",
       "      <td>462</td>\n",
       "      <td>Individual</td>\n",
       "      <td>Jean Henry Dunant</td>\n",
       "      <td>1828-05-08</td>\n",
       "      <td>Geneva</td>\n",
       "      <td>Switzerland</td>\n",
       "      <td>Male</td>\n",
       "      <td>NaN</td>\n",
       "      <td>NaN</td>\n",
       "      <td>NaN</td>\n",
       "      <td>1910-10-30</td>\n",
       "      <td>Heiden</td>\n",
       "      <td>Switzerland</td>\n",
       "    </tr>\n",
       "    <tr>\n",
       "      <th>4</th>\n",
       "      <td>1901</td>\n",
       "      <td>Peace</td>\n",
       "      <td>The Nobel Peace Prize 1901</td>\n",
       "      <td>NaN</td>\n",
       "      <td>1/2</td>\n",
       "      <td>463</td>\n",
       "      <td>Individual</td>\n",
       "      <td>Frédéric Passy</td>\n",
       "      <td>1822-05-20</td>\n",
       "      <td>Paris</td>\n",
       "      <td>France</td>\n",
       "      <td>Male</td>\n",
       "      <td>NaN</td>\n",
       "      <td>NaN</td>\n",
       "      <td>NaN</td>\n",
       "      <td>1912-06-12</td>\n",
       "      <td>Paris</td>\n",
       "      <td>France</td>\n",
       "    </tr>\n",
       "  </tbody>\n",
       "</table>\n",
       "</div>"
      ],
      "text/plain": [
       "   year    category                                           prize  \\\n",
       "0  1901   Chemistry               The Nobel Prize in Chemistry 1901   \n",
       "1  1901  Literature              The Nobel Prize in Literature 1901   \n",
       "2  1901    Medicine  The Nobel Prize in Physiology or Medicine 1901   \n",
       "3  1901       Peace                      The Nobel Peace Prize 1901   \n",
       "4  1901       Peace                      The Nobel Peace Prize 1901   \n",
       "\n",
       "                                          motivation prize_share  laureate_id  \\\n",
       "0  \"in recognition of the extraordinary services ...         1/1          160   \n",
       "1  \"in special recognition of his poetic composit...         1/1          569   \n",
       "2  \"for his work on serum therapy, especially its...         1/1          293   \n",
       "3                                                NaN         1/2          462   \n",
       "4                                                NaN         1/2          463   \n",
       "\n",
       "  laureate_type                     full_name  birth_date         birth_city  \\\n",
       "0    Individual  Jacobus Henricus van 't Hoff  1852-08-30          Rotterdam   \n",
       "1    Individual               Sully Prudhomme  1839-03-16              Paris   \n",
       "2    Individual        Emil Adolf von Behring  1854-03-15  Hansdorf (Lawice)   \n",
       "3    Individual             Jean Henry Dunant  1828-05-08             Geneva   \n",
       "4    Individual                Frédéric Passy  1822-05-20              Paris   \n",
       "\n",
       "      birth_country   sex   organization_name organization_city  \\\n",
       "0       Netherlands  Male   Berlin University            Berlin   \n",
       "1            France  Male                 NaN               NaN   \n",
       "2  Prussia (Poland)  Male  Marburg University           Marburg   \n",
       "3       Switzerland  Male                 NaN               NaN   \n",
       "4            France  Male                 NaN               NaN   \n",
       "\n",
       "  organization_country  death_date death_city death_country  \n",
       "0              Germany  1911-03-01     Berlin       Germany  \n",
       "1                  NaN  1907-09-07   Châtenay        France  \n",
       "2              Germany  1917-03-31    Marburg       Germany  \n",
       "3                  NaN  1910-10-30     Heiden   Switzerland  \n",
       "4                  NaN  1912-06-12      Paris        France  "
      ]
     },
     "execution_count": 3,
     "metadata": {},
     "output_type": "execute_result"
    }
   ],
   "source": [
    "nobel_winners.head()"
   ]
  },
  {
   "cell_type": "code",
   "execution_count": 4,
   "id": "7c6fb251-e0b4-486a-8877-8f93de5fee86",
   "metadata": {
    "executionCancelledAt": null,
    "executionTime": 52,
    "lastExecutedAt": 1733173297857,
    "lastExecutedByKernel": "7c10251f-943c-45fc-a88e-6219fad984e0",
    "lastScheduledRunId": null,
    "lastSuccessfullyExecutedCode": "len(nobel_winners)"
   },
   "outputs": [
    {
     "data": {
      "text/plain": [
       "1000"
      ]
     },
     "execution_count": 4,
     "metadata": {},
     "output_type": "execute_result"
    }
   ],
   "source": [
    "len(nobel_winners)"
   ]
  },
  {
   "cell_type": "code",
   "execution_count": 5,
   "id": "bd3d3973-640c-4dd4-962c-3532d1cc76f5",
   "metadata": {
    "executionCancelledAt": null,
    "executionTime": 57,
    "lastExecutedAt": 1733173297914,
    "lastExecutedByKernel": "7c10251f-943c-45fc-a88e-6219fad984e0",
    "lastScheduledRunId": null,
    "lastSuccessfullyExecutedCode": "top_gender = nobel_winners['sex'].value_counts().index[0]\ntop_gender",
    "outputsMetadata": {
     "0": {
      "height": 164,
      "type": "dataFrame"
     }
    }
   },
   "outputs": [
    {
     "data": {
      "text/plain": [
       "'Male'"
      ]
     },
     "execution_count": 5,
     "metadata": {},
     "output_type": "execute_result"
    }
   ],
   "source": [
    "top_gender = nobel_winners['sex'].value_counts().index[0]\n",
    "top_gender"
   ]
  },
  {
   "cell_type": "code",
   "execution_count": null,
   "id": "98b72438-5eb2-440e-8001-91bccc5ac927",
   "metadata": {
    "executionCancelledAt": null,
    "executionTime": 55,
    "lastExecutedAt": 1733173297969,
    "lastExecutedByKernel": "7c10251f-943c-45fc-a88e-6219fad984e0",
    "lastScheduledRunId": null,
    "lastSuccessfullyExecutedCode": ""
   },
   "outputs": [],
   "source": []
  },
  {
   "cell_type": "code",
   "execution_count": 6,
   "id": "14e269e6-4dbf-4d02-8579-a4510e630e85",
   "metadata": {
    "executionCancelledAt": null,
    "executionTime": 56,
    "lastExecutedAt": 1733173298026,
    "lastExecutedByKernel": "7c10251f-943c-45fc-a88e-6219fad984e0",
    "lastScheduledRunId": null,
    "lastSuccessfullyExecutedCode": "top_country = nobel_winners['birth_country'].value_counts().index[0]\ntop_country",
    "outputsMetadata": {
     "0": {
      "height": 543,
      "type": "dataFrame"
     }
    }
   },
   "outputs": [
    {
     "data": {
      "text/plain": [
       "'United States of America'"
      ]
     },
     "execution_count": 6,
     "metadata": {},
     "output_type": "execute_result"
    }
   ],
   "source": [
    "top_country = nobel_winners['birth_country'].value_counts().index[0]\n",
    "top_country"
   ]
  },
  {
   "cell_type": "code",
   "execution_count": 7,
   "id": "f78ec244-1bd0-40ed-b8a2-b5de9712c5e1",
   "metadata": {
    "executionCancelledAt": null,
    "executionTime": 56,
    "lastExecutedAt": 1733173298082,
    "lastExecutedByKernel": "7c10251f-943c-45fc-a88e-6219fad984e0",
    "lastScheduledRunId": null,
    "lastSuccessfullyExecutedCode": "year_cat = nobel_winners.groupby(['year', 'category']).value_counts()\nyear_cat",
    "outputsMetadata": {
     "0": {
      "height": 543,
      "type": "dataFrame"
     }
    }
   },
   "outputs": [
    {
     "data": {
      "text/plain": [
       "year  category   prize                                                  motivation                                                                                                                                                                                                                                          prize_share  laureate_id  laureate_type  full_name                     birth_date  birth_city          birth_country             sex   organization_name         organization_city  organization_country      death_date  death_city    death_country           \n",
       "1901  Chemistry  The Nobel Prize in Chemistry 1901                      \"in recognition of the extraordinary services he has rendered by the discovery of the laws of chemical dynamics and osmotic pressure in solutions\"                                                                                                  1/1          160          Individual     Jacobus Henricus van 't Hoff  1852-08-30  Rotterdam           Netherlands               Male  Berlin University         Berlin             Germany                   1911-03-01  Berlin        Germany                     1\n",
       "      Medicine   The Nobel Prize in Physiology or Medicine 1901         \"for his work on serum therapy, especially its application against diphtheria, by which he has opened a new road in the domain of medical science and thereby placed in the hands of the physician a victorious weapon against illness and deaths\"  1/1          293          Individual     Emil Adolf von Behring        1854-03-15  Hansdorf (Lawice)   Prussia (Poland)          Male  Marburg University        Marburg            Germany                   1917-03-31  Marburg       Germany                     1\n",
       "      Physics    The Nobel Prize in Physics 1901                        \"in recognition of the extraordinary services he has rendered by the discovery of the remarkable rays subsequently named after him\"                                                                                                                 1/1          1            Individual     Wilhelm Conrad Röntgen        1845-03-27  Lennep (Remscheid)  Prussia (Germany)         Male  Munich University         Munich             Germany                   1923-02-10  Munich        Germany                     1\n",
       "1902  Chemistry  The Nobel Prize in Chemistry 1902                      \"in recognition of the extraordinary services he has rendered by his work on sugar and purine syntheses\"                                                                                                                                            1/1          161          Individual     Hermann Emil Fischer          1852-10-09  Euskirchen          Prussia (Germany)         Male  Berlin University         Berlin             Germany                   1919-07-15  Berlin        Germany                     1\n",
       "      Medicine   The Nobel Prize in Physiology or Medicine 1902         \"for his work on malaria, by which he has shown how it enters the organism and thereby has laid the foundation for successful research on this disease and methods of combating it\"                                                                 1/1          294          Individual     Ronald Ross                   1857-05-13  Almora              India                     Male  University College        Liverpool          United Kingdom            1932-09-16  Putney Heath  United Kingdom              1\n",
       "                                                                                                                                                                                                                                                                                                                                                                                                                                                                                                                                                                                               ..\n",
       "2010  Economics  The Sveriges Riksbank Prize in Economic Sciences 2010  \"for their analysis of markets with search frictions\"                                                                                                                                                                                               1/3          857          Individual     Dale T. Mortensen             1939-02-02  Enterprise, OR      United States of America  Male  Northwestern University   Evanston, IL       United States of America  2014-01-09  Wilmette, IL  United States of America    1\n",
       "      Medicine   The Nobel Prize in Physiology or Medicine 2010         \"for the development of in vitro fertilization\"                                                                                                                                                                                                     1/1          848          Individual     Robert G. Edwards             1925-09-27  Batley              United Kingdom            Male  University of Cambridge   Cambridge          United Kingdom            2013-04-10  Cambridge     United Kingdom              1\n",
       "2012  Economics  The Sveriges Riksbank Prize in Economic Sciences 2012  \"for the theory of stable allocations and the practice of market design\"                                                                                                                                                                            1/2          883          Individual     Lloyd S. Shapley              1923-06-02  Cambridge, MA       United States of America  Male  University of California  Los Angeles, CA    United States of America  2016-03-12  Tucson, AZ    United States of America    1\n",
       "2018  Physics    The Nobel Prize in Physics 2018                        \"for the optical tweezers and their application to biological systems\"                                                                                                                                                                              1/2          960          Individual     Arthur Ashkin                 1922-09-02  New York, NY        USA                       Male  Bell Laboratories         Holmdel, NJ        United States of America  2020-09-21  Rumson, NJ    United States of America    1\n",
       "2019  Chemistry  The Nobel Prize in Chemistry 2019                      \"for the development of lithium-ion batteries\"                                                                                                                                                                                                      1/3          976          Individual     John Goodenough               1922-07-25  Jena                Germany                   Male  University of Texas       Austin, TX         United States of America  2023-06-25  Austin, TX    United States of America    1\n",
       "Length: 406, dtype: int64"
      ]
     },
     "execution_count": 7,
     "metadata": {},
     "output_type": "execute_result"
    }
   ],
   "source": [
    "year_cat = nobel_winners.groupby(['year', 'category']).value_counts()\n",
    "year_cat"
   ]
  },
  {
   "cell_type": "code",
   "execution_count": 8,
   "id": "72ef0b0e-006b-41aa-b3f8-7f6614319518",
   "metadata": {
    "executionCancelledAt": null,
    "executionTime": 55,
    "lastExecutedAt": 1733173298137,
    "lastExecutedByKernel": "7c10251f-943c-45fc-a88e-6219fad984e0",
    "lastScheduledRunId": null,
    "lastSuccessfullyExecutedCode": "nobel_winners['decade'] = ((np.floor(nobel_winners['year'] // 10)) * 10).astype(int)"
   },
   "outputs": [],
   "source": [
    "nobel_winners['decade'] = ((np.floor(nobel_winners['year'] // 10)) * 10).astype(int)"
   ]
  },
  {
   "cell_type": "code",
   "execution_count": 9,
   "id": "bbd1b4e1-3b7a-4417-82d1-2c8bbec07513",
   "metadata": {
    "executionCancelledAt": null,
    "executionTime": 52,
    "lastExecutedAt": 1733173298189,
    "lastExecutedByKernel": "7c10251f-943c-45fc-a88e-6219fad984e0",
    "lastScheduledRunId": null,
    "lastSuccessfullyExecutedCode": "nobel_winners['USA'] = nobel_winners['birth_country'] == top_country"
   },
   "outputs": [],
   "source": [
    "nobel_winners['USA'] = nobel_winners['birth_country'] == top_country"
   ]
  },
  {
   "cell_type": "code",
   "execution_count": 10,
   "id": "e354b282-4b99-4373-8f02-08042c5db6b2",
   "metadata": {
    "executionCancelledAt": null,
    "executionTime": 64,
    "lastExecutedAt": 1733173298253,
    "lastExecutedByKernel": "7c10251f-943c-45fc-a88e-6219fad984e0",
    "lastScheduledRunId": null,
    "lastSuccessfullyExecutedCode": "nobel_winners.head()",
    "outputsMetadata": {
     "0": {
      "height": 266,
      "type": "dataFrame"
     }
    }
   },
   "outputs": [
    {
     "data": {
      "text/html": [
       "<div>\n",
       "<style scoped>\n",
       "    .dataframe tbody tr th:only-of-type {\n",
       "        vertical-align: middle;\n",
       "    }\n",
       "\n",
       "    .dataframe tbody tr th {\n",
       "        vertical-align: top;\n",
       "    }\n",
       "\n",
       "    .dataframe thead th {\n",
       "        text-align: right;\n",
       "    }\n",
       "</style>\n",
       "<table border=\"1\" class=\"dataframe\">\n",
       "  <thead>\n",
       "    <tr style=\"text-align: right;\">\n",
       "      <th></th>\n",
       "      <th>year</th>\n",
       "      <th>category</th>\n",
       "      <th>prize</th>\n",
       "      <th>motivation</th>\n",
       "      <th>prize_share</th>\n",
       "      <th>laureate_id</th>\n",
       "      <th>laureate_type</th>\n",
       "      <th>full_name</th>\n",
       "      <th>birth_date</th>\n",
       "      <th>birth_city</th>\n",
       "      <th>birth_country</th>\n",
       "      <th>sex</th>\n",
       "      <th>organization_name</th>\n",
       "      <th>organization_city</th>\n",
       "      <th>organization_country</th>\n",
       "      <th>death_date</th>\n",
       "      <th>death_city</th>\n",
       "      <th>death_country</th>\n",
       "      <th>decade</th>\n",
       "      <th>USA</th>\n",
       "    </tr>\n",
       "  </thead>\n",
       "  <tbody>\n",
       "    <tr>\n",
       "      <th>0</th>\n",
       "      <td>1901</td>\n",
       "      <td>Chemistry</td>\n",
       "      <td>The Nobel Prize in Chemistry 1901</td>\n",
       "      <td>\"in recognition of the extraordinary services ...</td>\n",
       "      <td>1/1</td>\n",
       "      <td>160</td>\n",
       "      <td>Individual</td>\n",
       "      <td>Jacobus Henricus van 't Hoff</td>\n",
       "      <td>1852-08-30</td>\n",
       "      <td>Rotterdam</td>\n",
       "      <td>Netherlands</td>\n",
       "      <td>Male</td>\n",
       "      <td>Berlin University</td>\n",
       "      <td>Berlin</td>\n",
       "      <td>Germany</td>\n",
       "      <td>1911-03-01</td>\n",
       "      <td>Berlin</td>\n",
       "      <td>Germany</td>\n",
       "      <td>1900</td>\n",
       "      <td>False</td>\n",
       "    </tr>\n",
       "    <tr>\n",
       "      <th>1</th>\n",
       "      <td>1901</td>\n",
       "      <td>Literature</td>\n",
       "      <td>The Nobel Prize in Literature 1901</td>\n",
       "      <td>\"in special recognition of his poetic composit...</td>\n",
       "      <td>1/1</td>\n",
       "      <td>569</td>\n",
       "      <td>Individual</td>\n",
       "      <td>Sully Prudhomme</td>\n",
       "      <td>1839-03-16</td>\n",
       "      <td>Paris</td>\n",
       "      <td>France</td>\n",
       "      <td>Male</td>\n",
       "      <td>NaN</td>\n",
       "      <td>NaN</td>\n",
       "      <td>NaN</td>\n",
       "      <td>1907-09-07</td>\n",
       "      <td>Châtenay</td>\n",
       "      <td>France</td>\n",
       "      <td>1900</td>\n",
       "      <td>False</td>\n",
       "    </tr>\n",
       "    <tr>\n",
       "      <th>2</th>\n",
       "      <td>1901</td>\n",
       "      <td>Medicine</td>\n",
       "      <td>The Nobel Prize in Physiology or Medicine 1901</td>\n",
       "      <td>\"for his work on serum therapy, especially its...</td>\n",
       "      <td>1/1</td>\n",
       "      <td>293</td>\n",
       "      <td>Individual</td>\n",
       "      <td>Emil Adolf von Behring</td>\n",
       "      <td>1854-03-15</td>\n",
       "      <td>Hansdorf (Lawice)</td>\n",
       "      <td>Prussia (Poland)</td>\n",
       "      <td>Male</td>\n",
       "      <td>Marburg University</td>\n",
       "      <td>Marburg</td>\n",
       "      <td>Germany</td>\n",
       "      <td>1917-03-31</td>\n",
       "      <td>Marburg</td>\n",
       "      <td>Germany</td>\n",
       "      <td>1900</td>\n",
       "      <td>False</td>\n",
       "    </tr>\n",
       "    <tr>\n",
       "      <th>3</th>\n",
       "      <td>1901</td>\n",
       "      <td>Peace</td>\n",
       "      <td>The Nobel Peace Prize 1901</td>\n",
       "      <td>NaN</td>\n",
       "      <td>1/2</td>\n",
       "      <td>462</td>\n",
       "      <td>Individual</td>\n",
       "      <td>Jean Henry Dunant</td>\n",
       "      <td>1828-05-08</td>\n",
       "      <td>Geneva</td>\n",
       "      <td>Switzerland</td>\n",
       "      <td>Male</td>\n",
       "      <td>NaN</td>\n",
       "      <td>NaN</td>\n",
       "      <td>NaN</td>\n",
       "      <td>1910-10-30</td>\n",
       "      <td>Heiden</td>\n",
       "      <td>Switzerland</td>\n",
       "      <td>1900</td>\n",
       "      <td>False</td>\n",
       "    </tr>\n",
       "    <tr>\n",
       "      <th>4</th>\n",
       "      <td>1901</td>\n",
       "      <td>Peace</td>\n",
       "      <td>The Nobel Peace Prize 1901</td>\n",
       "      <td>NaN</td>\n",
       "      <td>1/2</td>\n",
       "      <td>463</td>\n",
       "      <td>Individual</td>\n",
       "      <td>Frédéric Passy</td>\n",
       "      <td>1822-05-20</td>\n",
       "      <td>Paris</td>\n",
       "      <td>France</td>\n",
       "      <td>Male</td>\n",
       "      <td>NaN</td>\n",
       "      <td>NaN</td>\n",
       "      <td>NaN</td>\n",
       "      <td>1912-06-12</td>\n",
       "      <td>Paris</td>\n",
       "      <td>France</td>\n",
       "      <td>1900</td>\n",
       "      <td>False</td>\n",
       "    </tr>\n",
       "  </tbody>\n",
       "</table>\n",
       "</div>"
      ],
      "text/plain": [
       "   year    category                                           prize  \\\n",
       "0  1901   Chemistry               The Nobel Prize in Chemistry 1901   \n",
       "1  1901  Literature              The Nobel Prize in Literature 1901   \n",
       "2  1901    Medicine  The Nobel Prize in Physiology or Medicine 1901   \n",
       "3  1901       Peace                      The Nobel Peace Prize 1901   \n",
       "4  1901       Peace                      The Nobel Peace Prize 1901   \n",
       "\n",
       "                                          motivation prize_share  laureate_id  \\\n",
       "0  \"in recognition of the extraordinary services ...         1/1          160   \n",
       "1  \"in special recognition of his poetic composit...         1/1          569   \n",
       "2  \"for his work on serum therapy, especially its...         1/1          293   \n",
       "3                                                NaN         1/2          462   \n",
       "4                                                NaN         1/2          463   \n",
       "\n",
       "  laureate_type                     full_name  birth_date         birth_city  \\\n",
       "0    Individual  Jacobus Henricus van 't Hoff  1852-08-30          Rotterdam   \n",
       "1    Individual               Sully Prudhomme  1839-03-16              Paris   \n",
       "2    Individual        Emil Adolf von Behring  1854-03-15  Hansdorf (Lawice)   \n",
       "3    Individual             Jean Henry Dunant  1828-05-08             Geneva   \n",
       "4    Individual                Frédéric Passy  1822-05-20              Paris   \n",
       "\n",
       "      birth_country   sex   organization_name organization_city  \\\n",
       "0       Netherlands  Male   Berlin University            Berlin   \n",
       "1            France  Male                 NaN               NaN   \n",
       "2  Prussia (Poland)  Male  Marburg University           Marburg   \n",
       "3       Switzerland  Male                 NaN               NaN   \n",
       "4            France  Male                 NaN               NaN   \n",
       "\n",
       "  organization_country  death_date death_city death_country  decade    USA  \n",
       "0              Germany  1911-03-01     Berlin       Germany    1900  False  \n",
       "1                  NaN  1907-09-07   Châtenay        France    1900  False  \n",
       "2              Germany  1917-03-31    Marburg       Germany    1900  False  \n",
       "3                  NaN  1910-10-30     Heiden   Switzerland    1900  False  \n",
       "4                  NaN  1912-06-12      Paris        France    1900  False  "
      ]
     },
     "execution_count": 10,
     "metadata": {},
     "output_type": "execute_result"
    }
   ],
   "source": [
    "nobel_winners.head()"
   ]
  },
  {
   "cell_type": "code",
   "execution_count": 11,
   "id": "ae0e446e-7b2e-4199-b941-c282877d32c0",
   "metadata": {
    "executionCancelledAt": null,
    "executionTime": 48,
    "lastExecutedAt": 1733173298301,
    "lastExecutedByKernel": "7c10251f-943c-45fc-a88e-6219fad984e0",
    "lastScheduledRunId": null,
    "lastSuccessfullyExecutedCode": "usa_decades = nobel_winners.groupby('decade', as_index=False).agg({'USA': 'mean'})",
    "outputsMetadata": {
     "0": {
      "height": 543,
      "type": "dataFrame"
     }
    }
   },
   "outputs": [],
   "source": [
    "usa_decades = nobel_winners.groupby('decade', as_index=False).agg({'USA': 'mean'})"
   ]
  },
  {
   "cell_type": "code",
   "execution_count": 12,
   "id": "0fd54305-e75f-4b87-8047-dddeb8a6f107",
   "metadata": {
    "executionCancelledAt": null,
    "executionTime": 52,
    "lastExecutedAt": 1733173298353,
    "lastExecutedByKernel": "7c10251f-943c-45fc-a88e-6219fad984e0",
    "lastScheduledRunId": null,
    "lastSuccessfullyExecutedCode": "usa_decades",
    "outputsMetadata": {
     "0": {
      "height": 473,
      "type": "dataFrame"
     }
    }
   },
   "outputs": [
    {
     "data": {
      "text/html": [
       "<div>\n",
       "<style scoped>\n",
       "    .dataframe tbody tr th:only-of-type {\n",
       "        vertical-align: middle;\n",
       "    }\n",
       "\n",
       "    .dataframe tbody tr th {\n",
       "        vertical-align: top;\n",
       "    }\n",
       "\n",
       "    .dataframe thead th {\n",
       "        text-align: right;\n",
       "    }\n",
       "</style>\n",
       "<table border=\"1\" class=\"dataframe\">\n",
       "  <thead>\n",
       "    <tr style=\"text-align: right;\">\n",
       "      <th></th>\n",
       "      <th>decade</th>\n",
       "      <th>USA</th>\n",
       "    </tr>\n",
       "  </thead>\n",
       "  <tbody>\n",
       "    <tr>\n",
       "      <th>0</th>\n",
       "      <td>1900</td>\n",
       "      <td>0.017544</td>\n",
       "    </tr>\n",
       "    <tr>\n",
       "      <th>1</th>\n",
       "      <td>1910</td>\n",
       "      <td>0.075000</td>\n",
       "    </tr>\n",
       "    <tr>\n",
       "      <th>2</th>\n",
       "      <td>1920</td>\n",
       "      <td>0.074074</td>\n",
       "    </tr>\n",
       "    <tr>\n",
       "      <th>3</th>\n",
       "      <td>1930</td>\n",
       "      <td>0.250000</td>\n",
       "    </tr>\n",
       "    <tr>\n",
       "      <th>4</th>\n",
       "      <td>1940</td>\n",
       "      <td>0.302326</td>\n",
       "    </tr>\n",
       "    <tr>\n",
       "      <th>5</th>\n",
       "      <td>1950</td>\n",
       "      <td>0.291667</td>\n",
       "    </tr>\n",
       "    <tr>\n",
       "      <th>6</th>\n",
       "      <td>1960</td>\n",
       "      <td>0.265823</td>\n",
       "    </tr>\n",
       "    <tr>\n",
       "      <th>7</th>\n",
       "      <td>1970</td>\n",
       "      <td>0.317308</td>\n",
       "    </tr>\n",
       "    <tr>\n",
       "      <th>8</th>\n",
       "      <td>1980</td>\n",
       "      <td>0.319588</td>\n",
       "    </tr>\n",
       "    <tr>\n",
       "      <th>9</th>\n",
       "      <td>1990</td>\n",
       "      <td>0.403846</td>\n",
       "    </tr>\n",
       "    <tr>\n",
       "      <th>10</th>\n",
       "      <td>2000</td>\n",
       "      <td>0.422764</td>\n",
       "    </tr>\n",
       "    <tr>\n",
       "      <th>11</th>\n",
       "      <td>2010</td>\n",
       "      <td>0.314050</td>\n",
       "    </tr>\n",
       "    <tr>\n",
       "      <th>12</th>\n",
       "      <td>2020</td>\n",
       "      <td>0.360000</td>\n",
       "    </tr>\n",
       "  </tbody>\n",
       "</table>\n",
       "</div>"
      ],
      "text/plain": [
       "    decade       USA\n",
       "0     1900  0.017544\n",
       "1     1910  0.075000\n",
       "2     1920  0.074074\n",
       "3     1930  0.250000\n",
       "4     1940  0.302326\n",
       "5     1950  0.291667\n",
       "6     1960  0.265823\n",
       "7     1970  0.317308\n",
       "8     1980  0.319588\n",
       "9     1990  0.403846\n",
       "10    2000  0.422764\n",
       "11    2010  0.314050\n",
       "12    2020  0.360000"
      ]
     },
     "execution_count": 12,
     "metadata": {},
     "output_type": "execute_result"
    }
   ],
   "source": [
    "usa_decades"
   ]
  },
  {
   "cell_type": "code",
   "execution_count": 13,
   "id": "7fe6dac4-009f-490a-8297-0b8b8b7947aa",
   "metadata": {
    "executionCancelledAt": null,
    "executionTime": 56,
    "lastExecutedAt": 1733173298409,
    "lastExecutedByKernel": "7c10251f-943c-45fc-a88e-6219fad984e0",
    "lastScheduledRunId": null,
    "lastSuccessfullyExecutedCode": "# ****** Important ****** How to select a \"ROW\" with a filter\n\nmax_decade_usa = usa_decades[usa_decades['USA'] == usa_decades['USA'].max()]['decade'].values[0]"
   },
   "outputs": [],
   "source": [
    "# ****** Important ****** How to select a \"ROW\" with a filter\n",
    "\n",
    "max_decade_usa = usa_decades[usa_decades['USA'] == usa_decades['USA'].max()]['decade'].values[0]"
   ]
  },
  {
   "cell_type": "code",
   "execution_count": 14,
   "id": "43317f0d-5df8-4782-800b-6175f2ee3951",
   "metadata": {
    "executionCancelledAt": null,
    "executionTime": 48,
    "lastExecutedAt": 1733173298457,
    "lastExecutedByKernel": "7c10251f-943c-45fc-a88e-6219fad984e0",
    "lastScheduledRunId": null,
    "lastSuccessfullyExecutedCode": "max_decade_usa",
    "outputsMetadata": {
     "0": {
      "height": 110,
      "type": "dataFrame"
     }
    },
    "scrolled": true
   },
   "outputs": [
    {
     "data": {
      "text/plain": [
       "2000"
      ]
     },
     "execution_count": 14,
     "metadata": {},
     "output_type": "execute_result"
    }
   ],
   "source": [
    "max_decade_usa"
   ]
  },
  {
   "cell_type": "code",
   "execution_count": 15,
   "id": "a19affb5",
   "metadata": {},
   "outputs": [],
   "source": [
    "nobel_winners_fem = nobel_winners[nobel_winners['sex'] == 'Female']"
   ]
  },
  {
   "cell_type": "code",
   "execution_count": 16,
   "id": "01a2e1f8-7246-4827-883b-ad45f3aa4c9c",
   "metadata": {
    "executionCancelledAt": null,
    "executionTime": 48,
    "lastExecutedAt": 1733173298505,
    "lastExecutedByKernel": "7c10251f-943c-45fc-a88e-6219fad984e0",
    "lastScheduledRunId": null,
    "lastSuccessfullyExecutedCode": "nobel_winners['female'] = nobel_winners['sex'] == 'Female'"
   },
   "outputs": [],
   "source": [
    "nobel_winners['female'] = nobel_winners['sex'] == 'Female'"
   ]
  },
  {
   "cell_type": "code",
   "execution_count": 17,
   "id": "7c9ed738-34aa-48ff-8ed2-08c5589f116c",
   "metadata": {
    "executionCancelledAt": null,
    "executionTime": 56,
    "lastExecutedAt": 1733173298561,
    "lastExecutedByKernel": "7c10251f-943c-45fc-a88e-6219fad984e0",
    "lastScheduledRunId": null,
    "lastSuccessfullyExecutedCode": "fem_per_cat = nobel_winners.groupby(['decade', 'category'], as_index=False)['female'].mean()"
   },
   "outputs": [],
   "source": [
    "fem_per_cat = nobel_winners.groupby(['decade', 'category'], as_index=False)['female'].mean()"
   ]
  },
  {
   "cell_type": "code",
   "execution_count": 18,
   "id": "ea6f00f9-b9dc-4d3b-8bf1-c9b3472ce780",
   "metadata": {
    "executionCancelledAt": null,
    "executionTime": 61,
    "lastExecutedAt": 1733173298622,
    "lastExecutedByKernel": "7c10251f-943c-45fc-a88e-6219fad984e0",
    "lastScheduledRunId": null,
    "lastSuccessfullyExecutedCode": "fem_per_cat",
    "outputsMetadata": {
     "0": {
      "height": 543,
      "type": "dataFrame"
     }
    }
   },
   "outputs": [
    {
     "data": {
      "text/html": [
       "<div>\n",
       "<style scoped>\n",
       "    .dataframe tbody tr th:only-of-type {\n",
       "        vertical-align: middle;\n",
       "    }\n",
       "\n",
       "    .dataframe tbody tr th {\n",
       "        vertical-align: top;\n",
       "    }\n",
       "\n",
       "    .dataframe thead th {\n",
       "        text-align: right;\n",
       "    }\n",
       "</style>\n",
       "<table border=\"1\" class=\"dataframe\">\n",
       "  <thead>\n",
       "    <tr style=\"text-align: right;\">\n",
       "      <th></th>\n",
       "      <th>decade</th>\n",
       "      <th>category</th>\n",
       "      <th>female</th>\n",
       "    </tr>\n",
       "  </thead>\n",
       "  <tbody>\n",
       "    <tr>\n",
       "      <th>0</th>\n",
       "      <td>1900</td>\n",
       "      <td>Chemistry</td>\n",
       "      <td>0.000000</td>\n",
       "    </tr>\n",
       "    <tr>\n",
       "      <th>1</th>\n",
       "      <td>1900</td>\n",
       "      <td>Literature</td>\n",
       "      <td>0.100000</td>\n",
       "    </tr>\n",
       "    <tr>\n",
       "      <th>2</th>\n",
       "      <td>1900</td>\n",
       "      <td>Medicine</td>\n",
       "      <td>0.000000</td>\n",
       "    </tr>\n",
       "    <tr>\n",
       "      <th>3</th>\n",
       "      <td>1900</td>\n",
       "      <td>Peace</td>\n",
       "      <td>0.071429</td>\n",
       "    </tr>\n",
       "    <tr>\n",
       "      <th>4</th>\n",
       "      <td>1900</td>\n",
       "      <td>Physics</td>\n",
       "      <td>0.076923</td>\n",
       "    </tr>\n",
       "    <tr>\n",
       "      <th>...</th>\n",
       "      <td>...</td>\n",
       "      <td>...</td>\n",
       "      <td>...</td>\n",
       "    </tr>\n",
       "    <tr>\n",
       "      <th>67</th>\n",
       "      <td>2020</td>\n",
       "      <td>Economics</td>\n",
       "      <td>0.111111</td>\n",
       "    </tr>\n",
       "    <tr>\n",
       "      <th>68</th>\n",
       "      <td>2020</td>\n",
       "      <td>Literature</td>\n",
       "      <td>0.500000</td>\n",
       "    </tr>\n",
       "    <tr>\n",
       "      <th>69</th>\n",
       "      <td>2020</td>\n",
       "      <td>Medicine</td>\n",
       "      <td>0.125000</td>\n",
       "    </tr>\n",
       "    <tr>\n",
       "      <th>70</th>\n",
       "      <td>2020</td>\n",
       "      <td>Peace</td>\n",
       "      <td>0.285714</td>\n",
       "    </tr>\n",
       "    <tr>\n",
       "      <th>71</th>\n",
       "      <td>2020</td>\n",
       "      <td>Physics</td>\n",
       "      <td>0.166667</td>\n",
       "    </tr>\n",
       "  </tbody>\n",
       "</table>\n",
       "<p>72 rows × 3 columns</p>\n",
       "</div>"
      ],
      "text/plain": [
       "    decade    category    female\n",
       "0     1900   Chemistry  0.000000\n",
       "1     1900  Literature  0.100000\n",
       "2     1900    Medicine  0.000000\n",
       "3     1900       Peace  0.071429\n",
       "4     1900     Physics  0.076923\n",
       "..     ...         ...       ...\n",
       "67    2020   Economics  0.111111\n",
       "68    2020  Literature  0.500000\n",
       "69    2020    Medicine  0.125000\n",
       "70    2020       Peace  0.285714\n",
       "71    2020     Physics  0.166667\n",
       "\n",
       "[72 rows x 3 columns]"
      ]
     },
     "execution_count": 18,
     "metadata": {},
     "output_type": "execute_result"
    }
   ],
   "source": [
    "fem_per_cat"
   ]
  },
  {
   "cell_type": "code",
   "execution_count": 19,
   "id": "1f3e0586-a5fe-44b0-862f-d3dbe656f358",
   "metadata": {
    "executionCancelledAt": null,
    "executionTime": 65,
    "lastExecutedAt": 1733173298687,
    "lastExecutedByKernel": "7c10251f-943c-45fc-a88e-6219fad984e0",
    "lastScheduledRunId": null,
    "lastSuccessfullyExecutedCode": "max_decade_fem_cat = fem_per_cat[fem_per_cat['female'] == fem_per_cat['female'].max()]\nmax_decade_fem_cat",
    "outputsMetadata": {
     "0": {
      "height": 137,
      "type": "dataFrame"
     }
    }
   },
   "outputs": [
    {
     "data": {
      "text/html": [
       "<div>\n",
       "<style scoped>\n",
       "    .dataframe tbody tr th:only-of-type {\n",
       "        vertical-align: middle;\n",
       "    }\n",
       "\n",
       "    .dataframe tbody tr th {\n",
       "        vertical-align: top;\n",
       "    }\n",
       "\n",
       "    .dataframe thead th {\n",
       "        text-align: right;\n",
       "    }\n",
       "</style>\n",
       "<table border=\"1\" class=\"dataframe\">\n",
       "  <thead>\n",
       "    <tr style=\"text-align: right;\">\n",
       "      <th></th>\n",
       "      <th>decade</th>\n",
       "      <th>category</th>\n",
       "      <th>female</th>\n",
       "    </tr>\n",
       "  </thead>\n",
       "  <tbody>\n",
       "    <tr>\n",
       "      <th>68</th>\n",
       "      <td>2020</td>\n",
       "      <td>Literature</td>\n",
       "      <td>0.5</td>\n",
       "    </tr>\n",
       "  </tbody>\n",
       "</table>\n",
       "</div>"
      ],
      "text/plain": [
       "    decade    category  female\n",
       "68    2020  Literature     0.5"
      ]
     },
     "execution_count": 19,
     "metadata": {},
     "output_type": "execute_result"
    }
   ],
   "source": [
    "max_decade_fem_cat = fem_per_cat[fem_per_cat['female'] == fem_per_cat['female'].max()]\n",
    "max_decade_fem_cat"
   ]
  },
  {
   "cell_type": "code",
   "execution_count": 20,
   "id": "9b426ee5-3c1a-4fa9-b292-7a384a2f70db",
   "metadata": {
    "executionCancelledAt": null,
    "executionTime": 54,
    "lastExecutedAt": 1733173298741,
    "lastExecutedByKernel": "7c10251f-943c-45fc-a88e-6219fad984e0",
    "lastScheduledRunId": null,
    "lastSuccessfullyExecutedCode": "max_female_dict = {max_decade_fem_cat['decade'].values[0]: max_decade_fem_cat['category'].values[0]}\nmax_female_dict"
   },
   "outputs": [
    {
     "data": {
      "text/plain": [
       "{2020: 'Literature'}"
      ]
     },
     "execution_count": 20,
     "metadata": {},
     "output_type": "execute_result"
    }
   ],
   "source": [
    "max_female_dict = {max_decade_fem_cat['decade'].values[0]: max_decade_fem_cat['category'].values[0]}\n",
    "max_female_dict"
   ]
  },
  {
   "cell_type": "code",
   "execution_count": 21,
   "id": "07b26778-e798-4540-a18f-412218af5bb9",
   "metadata": {
    "executionCancelledAt": null,
    "executionTime": null,
    "lastExecutedAt": null,
    "lastExecutedByKernel": null,
    "lastScheduledRunId": null,
    "lastSuccessfullyExecutedCode": null,
    "outputsMetadata": {
     "0": {
      "height": 154,
      "type": "dataFrame"
     }
    }
   },
   "outputs": [
    {
     "data": {
      "text/html": [
       "<div>\n",
       "<style scoped>\n",
       "    .dataframe tbody tr th:only-of-type {\n",
       "        vertical-align: middle;\n",
       "    }\n",
       "\n",
       "    .dataframe tbody tr th {\n",
       "        vertical-align: top;\n",
       "    }\n",
       "\n",
       "    .dataframe thead th {\n",
       "        text-align: right;\n",
       "    }\n",
       "</style>\n",
       "<table border=\"1\" class=\"dataframe\">\n",
       "  <thead>\n",
       "    <tr style=\"text-align: right;\">\n",
       "      <th></th>\n",
       "      <th>index</th>\n",
       "      <th>year</th>\n",
       "      <th>category</th>\n",
       "      <th>prize</th>\n",
       "      <th>motivation</th>\n",
       "      <th>prize_share</th>\n",
       "      <th>laureate_id</th>\n",
       "      <th>laureate_type</th>\n",
       "      <th>full_name</th>\n",
       "      <th>birth_date</th>\n",
       "      <th>...</th>\n",
       "      <th>birth_country</th>\n",
       "      <th>sex</th>\n",
       "      <th>organization_name</th>\n",
       "      <th>organization_city</th>\n",
       "      <th>organization_country</th>\n",
       "      <th>death_date</th>\n",
       "      <th>death_city</th>\n",
       "      <th>death_country</th>\n",
       "      <th>decade</th>\n",
       "      <th>USA</th>\n",
       "    </tr>\n",
       "  </thead>\n",
       "  <tbody>\n",
       "    <tr>\n",
       "      <th>0</th>\n",
       "      <td>19</td>\n",
       "      <td>1903</td>\n",
       "      <td>Physics</td>\n",
       "      <td>The Nobel Prize in Physics 1903</td>\n",
       "      <td>\"in recognition of the extraordinary services ...</td>\n",
       "      <td>1/4</td>\n",
       "      <td>6</td>\n",
       "      <td>Individual</td>\n",
       "      <td>Marie Curie, née Sklodowska</td>\n",
       "      <td>1867-11-07</td>\n",
       "      <td>...</td>\n",
       "      <td>Russian Empire (Poland)</td>\n",
       "      <td>Female</td>\n",
       "      <td>NaN</td>\n",
       "      <td>NaN</td>\n",
       "      <td>NaN</td>\n",
       "      <td>1934-07-04</td>\n",
       "      <td>Sallanches</td>\n",
       "      <td>France</td>\n",
       "      <td>1900</td>\n",
       "      <td>False</td>\n",
       "    </tr>\n",
       "  </tbody>\n",
       "</table>\n",
       "<p>1 rows × 21 columns</p>\n",
       "</div>"
      ],
      "text/plain": [
       "   index  year category                            prize  \\\n",
       "0     19  1903  Physics  The Nobel Prize in Physics 1903   \n",
       "\n",
       "                                          motivation prize_share  laureate_id  \\\n",
       "0  \"in recognition of the extraordinary services ...         1/4            6   \n",
       "\n",
       "  laureate_type                    full_name  birth_date  ...  \\\n",
       "0    Individual  Marie Curie, née Sklodowska  1867-11-07  ...   \n",
       "\n",
       "             birth_country     sex organization_name organization_city  \\\n",
       "0  Russian Empire (Poland)  Female               NaN               NaN   \n",
       "\n",
       "  organization_country  death_date  death_city death_country decade    USA  \n",
       "0                  NaN  1934-07-04  Sallanches        France   1900  False  \n",
       "\n",
       "[1 rows x 21 columns]"
      ]
     },
     "execution_count": 21,
     "metadata": {},
     "output_type": "execute_result"
    }
   ],
   "source": [
    "year_woman_first = nobel_winners_fem[nobel_winners_fem['year'] == nobel_winners_fem['year'].min()]\n",
    "year_woman_first.reset_index()"
   ]
  },
  {
   "cell_type": "code",
   "execution_count": 22,
   "id": "1635c35e-565a-4158-8040-868e6807342b",
   "metadata": {
    "executionCancelledAt": null,
    "executionTime": 48,
    "lastExecutedAt": 1733173298841,
    "lastExecutedByKernel": "7c10251f-943c-45fc-a88e-6219fad984e0",
    "lastScheduledRunId": null,
    "lastSuccessfullyExecutedCode": "first_woman_name = year_woman_first['full_name'].values[0]\nfirst_woman_name",
    "outputsMetadata": {
     "0": {
      "height": 110,
      "type": "dataFrame"
     }
    }
   },
   "outputs": [
    {
     "data": {
      "text/plain": [
       "'Marie Curie, née Sklodowska'"
      ]
     },
     "execution_count": 22,
     "metadata": {},
     "output_type": "execute_result"
    }
   ],
   "source": [
    "first_woman_name = year_woman_first['full_name'].values[0]\n",
    "first_woman_name"
   ]
  },
  {
   "cell_type": "code",
   "execution_count": 23,
   "id": "3536e40c-9e17-48dd-aec7-a23e7e6dd86e",
   "metadata": {
    "executionCancelledAt": null,
    "executionTime": 53,
    "lastExecutedAt": 1733173298894,
    "lastExecutedByKernel": "7c10251f-943c-45fc-a88e-6219fad984e0",
    "lastScheduledRunId": null,
    "lastSuccessfullyExecutedCode": "first_woman_category = year_woman_first['category'].values[0]\nfirst_woman_category"
   },
   "outputs": [
    {
     "data": {
      "text/plain": [
       "'Physics'"
      ]
     },
     "execution_count": 23,
     "metadata": {},
     "output_type": "execute_result"
    }
   ],
   "source": [
    "first_woman_category = year_woman_first['category'].values[0]\n",
    "first_woman_category"
   ]
  },
  {
   "cell_type": "code",
   "execution_count": 24,
   "id": "14fc97d8-3308-45c3-a2b5-44a5001b90e0",
   "metadata": {
    "executionCancelledAt": null,
    "executionTime": 53,
    "lastExecutedAt": 1733173298947,
    "lastExecutedByKernel": "7c10251f-943c-45fc-a88e-6219fad984e0",
    "lastScheduledRunId": null,
    "lastSuccessfullyExecutedCode": "nobel_winners_mult = nobel_winners.groupby('laureate_id', as_index=False)['laureate_id'].value_counts()\nnobel_winners_mult",
    "outputsMetadata": {
     "0": {
      "height": 543,
      "type": "dataFrame"
     }
    }
   },
   "outputs": [
    {
     "data": {
      "text/html": [
       "<div>\n",
       "<style scoped>\n",
       "    .dataframe tbody tr th:only-of-type {\n",
       "        vertical-align: middle;\n",
       "    }\n",
       "\n",
       "    .dataframe tbody tr th {\n",
       "        vertical-align: top;\n",
       "    }\n",
       "\n",
       "    .dataframe thead th {\n",
       "        text-align: right;\n",
       "    }\n",
       "</style>\n",
       "<table border=\"1\" class=\"dataframe\">\n",
       "  <thead>\n",
       "    <tr style=\"text-align: right;\">\n",
       "      <th></th>\n",
       "      <th>laureate_id</th>\n",
       "      <th>count</th>\n",
       "    </tr>\n",
       "  </thead>\n",
       "  <tbody>\n",
       "    <tr>\n",
       "      <th>0</th>\n",
       "      <td>1</td>\n",
       "      <td>1</td>\n",
       "    </tr>\n",
       "    <tr>\n",
       "      <th>1</th>\n",
       "      <td>2</td>\n",
       "      <td>1</td>\n",
       "    </tr>\n",
       "    <tr>\n",
       "      <th>2</th>\n",
       "      <td>3</td>\n",
       "      <td>1</td>\n",
       "    </tr>\n",
       "    <tr>\n",
       "      <th>3</th>\n",
       "      <td>4</td>\n",
       "      <td>1</td>\n",
       "    </tr>\n",
       "    <tr>\n",
       "      <th>4</th>\n",
       "      <td>5</td>\n",
       "      <td>1</td>\n",
       "    </tr>\n",
       "    <tr>\n",
       "      <th>...</th>\n",
       "      <td>...</td>\n",
       "      <td>...</td>\n",
       "    </tr>\n",
       "    <tr>\n",
       "      <th>987</th>\n",
       "      <td>1030</td>\n",
       "      <td>1</td>\n",
       "    </tr>\n",
       "    <tr>\n",
       "      <th>988</th>\n",
       "      <td>1031</td>\n",
       "      <td>1</td>\n",
       "    </tr>\n",
       "    <tr>\n",
       "      <th>989</th>\n",
       "      <td>1032</td>\n",
       "      <td>1</td>\n",
       "    </tr>\n",
       "    <tr>\n",
       "      <th>990</th>\n",
       "      <td>1033</td>\n",
       "      <td>1</td>\n",
       "    </tr>\n",
       "    <tr>\n",
       "      <th>991</th>\n",
       "      <td>1034</td>\n",
       "      <td>1</td>\n",
       "    </tr>\n",
       "  </tbody>\n",
       "</table>\n",
       "<p>992 rows × 2 columns</p>\n",
       "</div>"
      ],
      "text/plain": [
       "     laureate_id  count\n",
       "0              1      1\n",
       "1              2      1\n",
       "2              3      1\n",
       "3              4      1\n",
       "4              5      1\n",
       "..           ...    ...\n",
       "987         1030      1\n",
       "988         1031      1\n",
       "989         1032      1\n",
       "990         1033      1\n",
       "991         1034      1\n",
       "\n",
       "[992 rows x 2 columns]"
      ]
     },
     "execution_count": 24,
     "metadata": {},
     "output_type": "execute_result"
    }
   ],
   "source": [
    "nobel_winners_mult = nobel_winners.groupby('laureate_id', as_index=False)['laureate_id'].value_counts()\n",
    "nobel_winners_mult"
   ]
  },
  {
   "cell_type": "code",
   "execution_count": 25,
   "id": "ecf77742-eb55-4e84-9a83-5e9ad713e8eb",
   "metadata": {
    "executionCancelledAt": null,
    "executionTime": 59,
    "lastExecutedAt": 1733173299006,
    "lastExecutedByKernel": "7c10251f-943c-45fc-a88e-6219fad984e0",
    "lastScheduledRunId": null,
    "lastSuccessfullyExecutedCode": "nobel_laureate_repeat = nobel_winners_mult[nobel_winners_mult['count'] > 1]\nnobel_laureate_repeat",
    "outputsMetadata": {
     "0": {
      "height": 305,
      "type": "dataFrame"
     }
    }
   },
   "outputs": [
    {
     "data": {
      "text/html": [
       "<div>\n",
       "<style scoped>\n",
       "    .dataframe tbody tr th:only-of-type {\n",
       "        vertical-align: middle;\n",
       "    }\n",
       "\n",
       "    .dataframe tbody tr th {\n",
       "        vertical-align: top;\n",
       "    }\n",
       "\n",
       "    .dataframe thead th {\n",
       "        text-align: right;\n",
       "    }\n",
       "</style>\n",
       "<table border=\"1\" class=\"dataframe\">\n",
       "  <thead>\n",
       "    <tr style=\"text-align: right;\">\n",
       "      <th></th>\n",
       "      <th>laureate_id</th>\n",
       "      <th>count</th>\n",
       "    </tr>\n",
       "  </thead>\n",
       "  <tbody>\n",
       "    <tr>\n",
       "      <th>5</th>\n",
       "      <td>6</td>\n",
       "      <td>2</td>\n",
       "    </tr>\n",
       "    <tr>\n",
       "      <th>64</th>\n",
       "      <td>66</td>\n",
       "      <td>2</td>\n",
       "    </tr>\n",
       "    <tr>\n",
       "      <th>212</th>\n",
       "      <td>217</td>\n",
       "      <td>2</td>\n",
       "    </tr>\n",
       "    <tr>\n",
       "      <th>217</th>\n",
       "      <td>222</td>\n",
       "      <td>2</td>\n",
       "    </tr>\n",
       "    <tr>\n",
       "      <th>475</th>\n",
       "      <td>482</td>\n",
       "      <td>3</td>\n",
       "    </tr>\n",
       "    <tr>\n",
       "      <th>507</th>\n",
       "      <td>515</td>\n",
       "      <td>2</td>\n",
       "    </tr>\n",
       "    <tr>\n",
       "      <th>720</th>\n",
       "      <td>743</td>\n",
       "      <td>2</td>\n",
       "    </tr>\n",
       "  </tbody>\n",
       "</table>\n",
       "</div>"
      ],
      "text/plain": [
       "     laureate_id  count\n",
       "5              6      2\n",
       "64            66      2\n",
       "212          217      2\n",
       "217          222      2\n",
       "475          482      3\n",
       "507          515      2\n",
       "720          743      2"
      ]
     },
     "execution_count": 25,
     "metadata": {},
     "output_type": "execute_result"
    }
   ],
   "source": [
    "nobel_laureate_repeat = nobel_winners_mult[nobel_winners_mult['count'] > 1]\n",
    "nobel_laureate_repeat"
   ]
  },
  {
   "cell_type": "code",
   "execution_count": 26,
   "id": "878cc6bf-494d-4b34-983b-acbc85a8faf7",
   "metadata": {
    "executionCancelledAt": null,
    "executionTime": 51,
    "lastExecutedAt": 1733173299057,
    "lastExecutedByKernel": "7c10251f-943c-45fc-a88e-6219fad984e0",
    "lastScheduledRunId": null,
    "lastSuccessfullyExecutedCode": "\nnobel_winners_repeat = nobel_winners[nobel_winners['laureate_id'].isin(nobel_laureate_repeat['laureate_id'])]['full_name']"
   },
   "outputs": [],
   "source": [
    "\n",
    "nobel_winners_repeat = nobel_winners[nobel_winners['laureate_id'].isin(nobel_laureate_repeat['laureate_id'])]['full_name']"
   ]
  },
  {
   "cell_type": "code",
   "execution_count": 27,
   "id": "c4b692be-a24b-4d6b-a581-4fa390fd230e",
   "metadata": {
    "executionCancelledAt": null,
    "executionTime": null,
    "lastExecutedAt": null,
    "lastExecutedByKernel": null,
    "lastScheduledRunId": null,
    "lastSuccessfullyExecutedCode": null,
    "outputsMetadata": {
     "0": {
      "height": 529,
      "type": "dataFrame"
     }
    }
   },
   "outputs": [
    {
     "data": {
      "text/plain": [
       "19                           Marie Curie, née Sklodowska\n",
       "62                           Marie Curie, née Sklodowska\n",
       "89     Comité international de la Croix Rouge (Intern...\n",
       "215    Comité international de la Croix Rouge (Intern...\n",
       "278                                   Linus Carl Pauling\n",
       "283    Office of the United Nations High Commissioner...\n",
       "298                                         John Bardeen\n",
       "306                                     Frederick Sanger\n",
       "340                                   Linus Carl Pauling\n",
       "348    Comité international de la Croix Rouge (Intern...\n",
       "424                                         John Bardeen\n",
       "505                                     Frederick Sanger\n",
       "523    Office of the United Nations High Commissioner...\n",
       "721                                   K. Barry Sharpless\n",
       "975                                      Barry Sharpless\n",
       "Name: full_name, dtype: object"
      ]
     },
     "execution_count": 27,
     "metadata": {},
     "output_type": "execute_result"
    }
   ],
   "source": [
    "nobel_winners_repeat"
   ]
  },
  {
   "cell_type": "code",
   "execution_count": 28,
   "id": "02e5a13b-c8e4-4749-ad0b-39b3069b0cfb",
   "metadata": {
    "executionCancelledAt": null,
    "executionTime": 51,
    "lastExecutedAt": 1733173299161,
    "lastExecutedByKernel": "7c10251f-943c-45fc-a88e-6219fad984e0",
    "lastScheduledRunId": null,
    "lastSuccessfullyExecutedCode": "nobel_repeat = nobel_winners_repeat.replace('Barry Sharpless', 'K. Barry Sharpless')",
    "outputsMetadata": {
     "0": {
      "height": 502,
      "type": "dataFrame"
     }
    }
   },
   "outputs": [],
   "source": [
    "nobel_repeat = nobel_winners_repeat.replace('Barry Sharpless', 'K. Barry Sharpless')"
   ]
  },
  {
   "cell_type": "code",
   "execution_count": 29,
   "id": "74bb5f83-b24f-4bec-9dcf-07689e91dd47",
   "metadata": {
    "executionCancelledAt": null,
    "executionTime": 51,
    "lastExecutedAt": 1733173299213,
    "lastExecutedByKernel": "7c10251f-943c-45fc-a88e-6219fad984e0",
    "lastScheduledRunId": null,
    "lastSuccessfullyExecutedCode": "repeat_list = list(set(nobel_repeat))"
   },
   "outputs": [],
   "source": [
    "repeat_list = list(set(nobel_repeat))"
   ]
  },
  {
   "cell_type": "code",
   "execution_count": 30,
   "id": "cd849352-23c4-4e89-9f04-00ea53a6ac78",
   "metadata": {
    "executionCancelledAt": null,
    "executionTime": 49,
    "lastExecutedAt": 1733173299262,
    "lastExecutedByKernel": "7c10251f-943c-45fc-a88e-6219fad984e0",
    "lastScheduledRunId": null,
    "lastSuccessfullyExecutedCode": "repeat_list",
    "scrolled": true
   },
   "outputs": [
    {
     "data": {
      "text/plain": [
       "['Marie Curie, née Sklodowska',\n",
       " 'John Bardeen',\n",
       " 'K. Barry Sharpless',\n",
       " 'Frederick Sanger',\n",
       " 'Office of the United Nations High Commissioner for Refugees (UNHCR)',\n",
       " 'Linus Carl Pauling',\n",
       " 'Comité international de la Croix Rouge (International Committee of the Red Cross)']"
      ]
     },
     "execution_count": 30,
     "metadata": {},
     "output_type": "execute_result"
    }
   ],
   "source": [
    "repeat_list"
   ]
  },
  {
   "cell_type": "code",
   "execution_count": 32,
   "id": "f5976232",
   "metadata": {},
   "outputs": [],
   "source": [
    "# Add a blurb here about how there were supposed to be 6 names listed in the DataCamp project solution for the repeat_list, \n",
    "# however, there are actually 7, since one person's name (K. Barry Sharpless) was spelled differently for each of his 2 wins. \n",
    "# If tallied by laureate_id instead, then the correct answer of 7 is found."
   ]
  },
  {
   "cell_type": "code",
   "execution_count": null,
   "id": "a0a84d3b",
   "metadata": {},
   "outputs": [],
   "source": []
  }
 ],
 "metadata": {
  "editor": "DataCamp Workspace",
  "kernelspec": {
   "display_name": "Python 3 (ipykernel)",
   "language": "python",
   "name": "python3"
  },
  "language_info": {
   "codemirror_mode": {
    "name": "ipython",
    "version": 3
   },
   "file_extension": ".py",
   "mimetype": "text/x-python",
   "name": "python",
   "nbconvert_exporter": "python",
   "pygments_lexer": "ipython3",
   "version": "3.9.7"
  }
 },
 "nbformat": 4,
 "nbformat_minor": 5
}
