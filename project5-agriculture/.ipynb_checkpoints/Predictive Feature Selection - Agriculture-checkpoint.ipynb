{
 "cells": [
  {
   "cell_type": "markdown",
   "id": "d3d001b0-2e2f-4b58-8442-99520bad831f",
   "metadata": {},
   "source": [
    "# Project 5\n",
    "\n",
    "## Sowing Success: How Machine Learning Helps Farmers Select the Best Crops\n",
    "\n",
    "### Objective\n",
    "\n",
    "Build multi-class classification models to predict the type of `\"crop\"` best suited to a paritcular field given the features of soil composition, and identify the single most importance feature for predictive performance.\n",
    "\n",
    "Measuring essential soil metrics such as nitrogen, phosphorous, potassium levels, and pH value is an important aspect of assessing soil condition. However, it can be an expensive and time-consuming process, which can cause farmers to prioritize which metrics to measure based on their budget constraints.\n",
    "\n",
    "Farmers have various options when it comes to deciding which crop to plant each season. Their primary objective is to maximize the yield of their crops, taking into account different factors. One crucial factor that affects crop growth is the condition of the soil in the field, which can be assessed by measuring basic elements such as nitrogen and potassium levels. Each crop has an ideal soil condition that ensures optimal growth and maximum yield.\n",
    "\n",
    "A farmer reached out to you as a machine learning expert for assistance in selecting the best crop for his field. They've provided you with a dataset called `soil_measures.csv`, which contains:\n",
    "\n",
    "- `\"N\"`: Nitrogen content ratio in the soil\n",
    "- `\"P\"`: Phosphorous content ratio in the soil\n",
    "- `\"K\"`: Potassium content ratio in the soil\n",
    "- `\"pH\"` value of the soil\n",
    "- `\"crop\"`: categorical values that contain various crops (target variable).\n",
    "\n",
    "Each row in this dataset represents various measures of the soil in a particular field. Based on these measurements, the crop specified in the `\"crop\"` column is the optimal choice for that field.  "
   ]
  },
  {
   "cell_type": "code",
   "execution_count": 1,
   "id": "d0eb4f16-5a99-460d-a5ba-706b7ef0bbe7",
   "metadata": {
    "executionCancelledAt": null,
    "executionTime": 16,
    "id": "bA5ajAmk7XH6",
    "lastExecutedAt": 1736353153892,
    "lastExecutedByKernel": "6d94bffe-a260-4e34-b800-09e0a8059a61",
    "lastScheduledRunId": null,
    "lastSuccessfullyExecutedCode": "# All required libraries are imported here for you.\nimport pandas as pd\nfrom sklearn.linear_model import LogisticRegression\nfrom sklearn.model_selection import train_test_split\nfrom sklearn import metrics\n\n# Load the dataset\ncrops = pd.read_csv(\"soil_measures.csv\")\n\n# Write your code here"
   },
   "outputs": [],
   "source": [
    "# Import required libraries\n",
    "import pandas as pd\n",
    "from sklearn.linear_model import LogisticRegression\n",
    "from sklearn.model_selection import train_test_split\n",
    "from sklearn import metrics\n",
    "\n",
    "# Load the dataset\n",
    "crops = pd.read_csv(\"soil_measures.csv\")"
   ]
  },
  {
   "cell_type": "code",
   "execution_count": 2,
   "id": "e00af5d3-8226-48c6-985b-774d1571fbed",
   "metadata": {
    "executionCancelledAt": null,
    "executionTime": 50,
    "lastExecutedAt": 1736353153942,
    "lastExecutedByKernel": "6d94bffe-a260-4e34-b800-09e0a8059a61",
    "lastScheduledRunId": null,
    "lastSuccessfullyExecutedCode": "crops.isna().sum().sort_values()",
    "outputsMetadata": {
     "0": {
      "height": 245,
      "tableState": {
       "customFilter": {
        "const": {
         "type": "boolean",
         "valid": true,
         "value": true
        },
        "id": "33735d80-05eb-468c-a0a9-d20edf39a9c9",
        "nodeType": "const"
       },
       "quickFilterText": ""
      },
      "type": "dataFrame"
     }
    }
   },
   "outputs": [
    {
     "data": {
      "text/plain": [
       "N       0\n",
       "P       0\n",
       "K       0\n",
       "ph      0\n",
       "crop    0\n",
       "dtype: int64"
      ]
     },
     "execution_count": 2,
     "metadata": {},
     "output_type": "execute_result"
    }
   ],
   "source": [
    "# Check for N/A\n",
    "crops.isna().sum().sort_values()"
   ]
  },
  {
   "cell_type": "code",
   "execution_count": 3,
   "id": "3cc5893d-0658-4d0d-b551-e2f95914f57c",
   "metadata": {
    "executionCancelledAt": null,
    "executionTime": 52,
    "lastExecutedAt": 1736353153994,
    "lastExecutedByKernel": "6d94bffe-a260-4e34-b800-09e0a8059a61",
    "lastScheduledRunId": null,
    "lastSuccessfullyExecutedCode": "crops['crop'].unique()"
   },
   "outputs": [
    {
     "data": {
      "text/plain": [
       "array(['rice', 'maize', 'chickpea', 'kidneybeans', 'pigeonpeas',\n",
       "       'mothbeans', 'mungbean', 'blackgram', 'lentil', 'pomegranate',\n",
       "       'banana', 'mango', 'grapes', 'watermelon', 'muskmelon', 'apple',\n",
       "       'orange', 'papaya', 'coconut', 'cotton', 'jute', 'coffee'],\n",
       "      dtype=object)"
      ]
     },
     "execution_count": 3,
     "metadata": {},
     "output_type": "execute_result"
    }
   ],
   "source": [
    "# Look at list of crops\n",
    "crops['crop'].unique()"
   ]
  },
  {
   "cell_type": "code",
   "execution_count": 4,
   "id": "155529ae-5103-46c8-a0c9-19cd3060402a",
   "metadata": {
    "executionCancelledAt": null,
    "executionTime": 52,
    "lastExecutedAt": 1736353154046,
    "lastExecutedByKernel": "6d94bffe-a260-4e34-b800-09e0a8059a61",
    "lastScheduledRunId": null,
    "lastSuccessfullyExecutedCode": "# VERY specific use case here for NOT using .values, as we do NOT want to create NP arrays - since\n# later we are subsetting and you can't subset NP arrays using the method below\n\nX = crops.drop(\"crop\", axis=1)\ny = crops['crop']"
   },
   "outputs": [],
   "source": [
    "# Set up X and y for training/test data modeling - all features other than crop since we are looking to predict which crop\n",
    "# will work best with the field condition features presented.\n",
    "\n",
    "X = crops.drop(\"crop\", axis=1)\n",
    "y = crops['crop']"
   ]
  },
  {
   "cell_type": "code",
   "execution_count": 5,
   "id": "defc73d9-f5b8-47e4-b2bc-447ca7e69d29",
   "metadata": {
    "executionCancelledAt": null,
    "executionTime": 52,
    "lastExecutedAt": 1736353154146,
    "lastExecutedByKernel": "6d94bffe-a260-4e34-b800-09e0a8059a61",
    "lastScheduledRunId": null,
    "lastSuccessfullyExecutedCode": "X_train, X_test, y_train, y_test = train_test_split(X, y, test_size=0.2, random_state=42)"
   },
   "outputs": [],
   "source": [
    "# Set up train_test_split for model\n",
    "\n",
    "X_train, X_test, y_train, y_test = train_test_split(X, y, test_size=0.2, random_state=42)"
   ]
  },
  {
   "cell_type": "code",
   "execution_count": 6,
   "id": "79d79c0a-83a2-484b-b66a-3b61032c2f21",
   "metadata": {
    "executionCancelledAt": null,
    "executionTime": 48,
    "lastExecutedAt": 1736353154194,
    "lastExecutedByKernel": "6d94bffe-a260-4e34-b800-09e0a8059a61",
    "lastScheduledRunId": null,
    "lastSuccessfullyExecutedCode": "feature_performance = {}"
   },
   "outputs": [],
   "source": [
    "# Create empty dictionary to hold results for performance analysis\n",
    "\n",
    "feature_performance = {}"
   ]
  },
  {
   "cell_type": "code",
   "execution_count": 11,
   "id": "d02f6e6b-30dd-41cc-9b29-471f112c31d1",
   "metadata": {
    "executionCancelledAt": null,
    "executionTime": null,
    "lastExecutedAt": null,
    "lastExecutedByKernel": null,
    "lastScheduledRunId": null,
    "lastSuccessfullyExecutedCode": null,
    "outputsMetadata": {
     "0": {
      "height": 101,
      "type": "stream"
     }
    }
   },
   "outputs": [
    {
     "name": "stdout",
     "output_type": "stream",
     "text": [
      "F1-score for N: 0.10389867856018971\n",
      "F1-score for P: 0.12816696343647532\n",
      "F1-score for K: 0.19353708384487586\n",
      "F1-score for ph: 0.04532731061152114\n"
     ]
    }
   ],
   "source": [
    "# Process each feature to assess F1 for predictive performance\n",
    "\n",
    "for feature in [\"N\", \"P\", \"K\", \"ph\"]:\n",
    "    log_reg = LogisticRegression(multi_class=\"multinomial\")\n",
    "    log_reg.fit(X_train[[feature]], y_train)\n",
    "    y_pred = log_reg.predict(X_test[[feature]])\n",
    "    f1 = metrics.f1_score(y_test, y_pred, average=\"weighted\")\n",
    "    feature_performance[feature] = f1\n",
    "    print(f\"F1-score for {feature}: {f1}\")"
   ]
  },
  {
   "cell_type": "code",
   "execution_count": 8,
   "id": "92d23935-e7b9-4b08-8732-254e9d1d0854",
   "metadata": {
    "executionCancelledAt": null,
    "executionTime": 86,
    "lastExecutedAt": 1736353159899,
    "lastExecutedByKernel": "6d94bffe-a260-4e34-b800-09e0a8059a61",
    "lastScheduledRunId": null,
    "lastSuccessfullyExecutedCode": "# K produced the best F1 score\n# Store in best_predictive_feature dictionary\n\nbest_predictive_feature = {\"K\": feature_performance[\"K\"]}\nbest_predictive_feature"
   },
   "outputs": [
    {
     "data": {
      "text/plain": [
       "{'K': 0.26000035938687127}"
      ]
     },
     "execution_count": 8,
     "metadata": {},
     "output_type": "execute_result"
    }
   ],
   "source": [
    "# K produced the best F1 score\n",
    "# Store in best_predictive_feature dictionary (for submission to project work assessment)\n",
    "\n",
    "best_predictive_feature = {\"K\": feature_performance[\"K\"]}\n",
    "best_predictive_feature"
   ]
  },
  {
   "cell_type": "code",
   "execution_count": null,
   "id": "a56ad5f4",
   "metadata": {},
   "outputs": [],
   "source": []
  }
 ],
 "metadata": {
  "colab": {
   "name": "Welcome to DataCamp Workspaces.ipynb",
   "provenance": []
  },
  "kernelspec": {
   "display_name": "Python 3 (ipykernel)",
   "language": "python",
   "name": "python3"
  },
  "language_info": {
   "codemirror_mode": {
    "name": "ipython",
    "version": 3
   },
   "file_extension": ".py",
   "mimetype": "text/x-python",
   "name": "python",
   "nbconvert_exporter": "python",
   "pygments_lexer": "ipython3",
   "version": "3.9.7"
  }
 },
 "nbformat": 4,
 "nbformat_minor": 5
}
