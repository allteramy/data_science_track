{
 "cells": [
  {
   "cell_type": "markdown",
   "id": "5962b2cd-17bb-4ec9-b2d5-68537ca26860",
   "metadata": {},
   "source": [
    "## Project #1\n",
    "\n",
    "This is the first project in the <strong>Associate Data Scientist</strong> career certification track through DataCamp. It covers beginner and intermediate Python skills, including filtering data and working with visualations using the MatPlotLib library.\n",
    "\n",
    "## Investigating Netflix Movies\n",
    "\n",
    "\n",
    "### Project Introduction\n",
    "\n",
    "**Netflix**! What started in 1997 as a DVD rental service has since exploded into one of the largest entertainment and media companies.\n",
    "\n",
    "Given the large number of movies and series available on the platform, it is a perfect opportunity to flex your exploratory data analysis skills and dive into the entertainment industry.\n",
    "\n",
    "You work for a production company that specializes in nostalgic styles. You want to do some research on movies released in the 1990's. You'll delve into Netflix data and perform exploratory data analysis to better understand this awesome movie decade!\n",
    "\n",
    "You have been supplied with the dataset `netflix_data.csv`, along with the following table detailing the column names and descriptions.\n",
    "\n",
    "### Project Instructions\n",
    "\n",
    "Perform exploratory data analysis on the netflix_data.csv data to understand more about movies from the 1990s decade.\n",
    "\n",
    "- What was the most frequent movie <strong>duration</strong> in the 1990s? Save an approximate answer as an integer called `duration` (use 1990 as the decade's start year).\n",
    "\n",
    "- A movie is considered short if it is less than 90 minutes. Count the number of <strong>short action movies</strong> released in the 1990s and save this integer as `short_movie_count`.\n",
    "\n",
    "\n",
    "### The data\n",
    "#### **netflix_data.csv**\n",
    "| Column | Description |\n",
    "|--------|-------------|\n",
    "| `show_id` | The ID of the show |\n",
    "| `type` | Type of show |\n",
    "| `title` | Title of the show |\n",
    "| `director` | Director of the show |\n",
    "| `cast` | Cast of the show |\n",
    "| `country` | Country of origin |\n",
    "| `date_added` | Date added to Netflix |\n",
    "| `release_year` | Year of Netflix release |\n",
    "| `duration` | Duration of the show in minutes |\n",
    "| `description` | Description of the show |\n",
    "| `genre` | Show genre |"
   ]
  },
  {
   "cell_type": "code",
   "execution_count": 1,
   "id": "320a3abc-8a36-4b2b-baaf-473325363a4d",
   "metadata": {
    "executionCancelledAt": null,
    "executionTime": 36,
    "lastExecutedAt": 1732298822839,
    "lastExecutedByKernel": "af9524d5-7624-4f41-a6bf-c9628ecefcee",
    "lastScheduledRunId": null,
    "lastSuccessfullyExecutedCode": "# Importing pandas and matplotlib\nimport pandas as pd\nimport matplotlib.pyplot as plt\n\n# Read in the Netflix CSV as a DataFrame\nnetflix_df = pd.read_csv(\"netflix_data.csv\")"
   },
   "outputs": [],
   "source": [
    "# Importing pandas and matplotlib\n",
    "import pandas as pd\n",
    "import matplotlib.pyplot as plt\n",
    "\n",
    "# Read in the Netflix CSV as a DataFrame\n",
    "netflix_df = pd.read_csv(\"netflix_data.csv\")"
   ]
  },
  {
   "cell_type": "code",
   "execution_count": 2,
   "id": "4626edbd-5a26-446e-aaa0-6c4b9387904b",
   "metadata": {
    "executionCancelledAt": null,
    "executionTime": 49,
    "lastExecutedAt": 1732298822937,
    "lastExecutedByKernel": "af9524d5-7624-4f41-a6bf-c9628ecefcee",
    "lastScheduledRunId": null,
    "lastSuccessfullyExecutedCode": "netflix_df.head()",
    "outputsMetadata": {
     "0": {
      "height": 190,
      "type": "dataFrame"
     }
    }
   },
   "outputs": [
    {
     "data": {
      "text/html": [
       "<div>\n",
       "<style scoped>\n",
       "    .dataframe tbody tr th:only-of-type {\n",
       "        vertical-align: middle;\n",
       "    }\n",
       "\n",
       "    .dataframe tbody tr th {\n",
       "        vertical-align: top;\n",
       "    }\n",
       "\n",
       "    .dataframe thead th {\n",
       "        text-align: right;\n",
       "    }\n",
       "</style>\n",
       "<table border=\"1\" class=\"dataframe\">\n",
       "  <thead>\n",
       "    <tr style=\"text-align: right;\">\n",
       "      <th></th>\n",
       "      <th>show_id</th>\n",
       "      <th>type</th>\n",
       "      <th>title</th>\n",
       "      <th>director</th>\n",
       "      <th>cast</th>\n",
       "      <th>country</th>\n",
       "      <th>date_added</th>\n",
       "      <th>release_year</th>\n",
       "      <th>duration</th>\n",
       "      <th>description</th>\n",
       "      <th>genre</th>\n",
       "    </tr>\n",
       "  </thead>\n",
       "  <tbody>\n",
       "    <tr>\n",
       "      <th>0</th>\n",
       "      <td>s2</td>\n",
       "      <td>Movie</td>\n",
       "      <td>7:19</td>\n",
       "      <td>Jorge Michel Grau</td>\n",
       "      <td>Demián Bichir, Héctor Bonilla, Oscar Serrano, ...</td>\n",
       "      <td>Mexico</td>\n",
       "      <td>December 23, 2016</td>\n",
       "      <td>2016</td>\n",
       "      <td>93</td>\n",
       "      <td>After a devastating earthquake hits Mexico Cit...</td>\n",
       "      <td>Dramas</td>\n",
       "    </tr>\n",
       "    <tr>\n",
       "      <th>1</th>\n",
       "      <td>s3</td>\n",
       "      <td>Movie</td>\n",
       "      <td>23:59</td>\n",
       "      <td>Gilbert Chan</td>\n",
       "      <td>Tedd Chan, Stella Chung, Henley Hii, Lawrence ...</td>\n",
       "      <td>Singapore</td>\n",
       "      <td>December 20, 2018</td>\n",
       "      <td>2011</td>\n",
       "      <td>78</td>\n",
       "      <td>When an army recruit is found dead, his fellow...</td>\n",
       "      <td>Horror Movies</td>\n",
       "    </tr>\n",
       "    <tr>\n",
       "      <th>2</th>\n",
       "      <td>s4</td>\n",
       "      <td>Movie</td>\n",
       "      <td>9</td>\n",
       "      <td>Shane Acker</td>\n",
       "      <td>Elijah Wood, John C. Reilly, Jennifer Connelly...</td>\n",
       "      <td>United States</td>\n",
       "      <td>November 16, 2017</td>\n",
       "      <td>2009</td>\n",
       "      <td>80</td>\n",
       "      <td>In a postapocalyptic world, rag-doll robots hi...</td>\n",
       "      <td>Action</td>\n",
       "    </tr>\n",
       "    <tr>\n",
       "      <th>3</th>\n",
       "      <td>s5</td>\n",
       "      <td>Movie</td>\n",
       "      <td>21</td>\n",
       "      <td>Robert Luketic</td>\n",
       "      <td>Jim Sturgess, Kevin Spacey, Kate Bosworth, Aar...</td>\n",
       "      <td>United States</td>\n",
       "      <td>January 1, 2020</td>\n",
       "      <td>2008</td>\n",
       "      <td>123</td>\n",
       "      <td>A brilliant group of students become card-coun...</td>\n",
       "      <td>Dramas</td>\n",
       "    </tr>\n",
       "    <tr>\n",
       "      <th>4</th>\n",
       "      <td>s6</td>\n",
       "      <td>TV Show</td>\n",
       "      <td>46</td>\n",
       "      <td>Serdar Akar</td>\n",
       "      <td>Erdal Beşikçioğlu, Yasemin Allen, Melis Birkan...</td>\n",
       "      <td>Turkey</td>\n",
       "      <td>July 1, 2017</td>\n",
       "      <td>2016</td>\n",
       "      <td>1</td>\n",
       "      <td>A genetics professor experiments with a treatm...</td>\n",
       "      <td>International TV</td>\n",
       "    </tr>\n",
       "  </tbody>\n",
       "</table>\n",
       "</div>"
      ],
      "text/plain": [
       "  show_id     type  title           director  \\\n",
       "0      s2    Movie   7:19  Jorge Michel Grau   \n",
       "1      s3    Movie  23:59       Gilbert Chan   \n",
       "2      s4    Movie      9        Shane Acker   \n",
       "3      s5    Movie     21     Robert Luketic   \n",
       "4      s6  TV Show     46        Serdar Akar   \n",
       "\n",
       "                                                cast        country  \\\n",
       "0  Demián Bichir, Héctor Bonilla, Oscar Serrano, ...         Mexico   \n",
       "1  Tedd Chan, Stella Chung, Henley Hii, Lawrence ...      Singapore   \n",
       "2  Elijah Wood, John C. Reilly, Jennifer Connelly...  United States   \n",
       "3  Jim Sturgess, Kevin Spacey, Kate Bosworth, Aar...  United States   \n",
       "4  Erdal Beşikçioğlu, Yasemin Allen, Melis Birkan...         Turkey   \n",
       "\n",
       "          date_added  release_year  duration  \\\n",
       "0  December 23, 2016          2016        93   \n",
       "1  December 20, 2018          2011        78   \n",
       "2  November 16, 2017          2009        80   \n",
       "3    January 1, 2020          2008       123   \n",
       "4       July 1, 2017          2016         1   \n",
       "\n",
       "                                         description             genre  \n",
       "0  After a devastating earthquake hits Mexico Cit...            Dramas  \n",
       "1  When an army recruit is found dead, his fellow...     Horror Movies  \n",
       "2  In a postapocalyptic world, rag-doll robots hi...            Action  \n",
       "3  A brilliant group of students become card-coun...            Dramas  \n",
       "4  A genetics professor experiments with a treatm...  International TV  "
      ]
     },
     "execution_count": 2,
     "metadata": {},
     "output_type": "execute_result"
    }
   ],
   "source": [
    "# First look at dataframe using head()\n",
    "netflix_df.head()"
   ]
  },
  {
   "cell_type": "code",
   "execution_count": 3,
   "id": "70ed2a5b-3b22-4a0d-91df-cb0b78ceb082",
   "metadata": {
    "executionCancelledAt": null,
    "executionTime": 50,
    "lastExecutedAt": 1732298823039,
    "lastExecutedByKernel": "af9524d5-7624-4f41-a6bf-c9628ecefcee",
    "lastScheduledRunId": null,
    "lastSuccessfullyExecutedCode": "movies = netflix_df.loc[(netflix_df['type'] == 'Movie')]"
   },
   "outputs": [],
   "source": [
    "#Filter for only movies\n",
    "movies = netflix_df.loc[(netflix_df['type'] == 'Movie')]"
   ]
  },
  {
   "cell_type": "code",
   "execution_count": 4,
   "id": "9e2778c2-9a23-4eae-9908-9a2cba9e0b63",
   "metadata": {
    "executionCancelledAt": null,
    "executionTime": 52,
    "lastExecutedAt": 1732298823227,
    "lastExecutedByKernel": "af9524d5-7624-4f41-a6bf-c9628ecefcee",
    "lastScheduledRunId": null,
    "lastSuccessfullyExecutedCode": "movies_90s = movies.loc[(movies['release_year'] > 1989) & (movies['release_year'] < 2000)]"
   },
   "outputs": [],
   "source": [
    "#Filter for movies that were released in the 1990s, using 1990 as the starting year of the decade\n",
    "movies_90s = movies.loc[(movies['release_year'] > 1989) & (movies['release_year'] < 2000)]"
   ]
  },
  {
   "cell_type": "code",
   "execution_count": 5,
   "id": "c36777cc-6791-4fbf-a2e5-c2079627a2e4",
   "metadata": {
    "executionCancelledAt": null,
    "executionTime": 34,
    "lastExecutedAt": 1732298823261,
    "lastExecutedByKernel": "af9524d5-7624-4f41-a6bf-c9628ecefcee",
    "lastScheduledRunId": null,
    "lastSuccessfullyExecutedCode": "movies_90s"
   },
   "outputs": [
    {
     "data": {
      "text/html": [
       "<div>\n",
       "<style scoped>\n",
       "    .dataframe tbody tr th:only-of-type {\n",
       "        vertical-align: middle;\n",
       "    }\n",
       "\n",
       "    .dataframe tbody tr th {\n",
       "        vertical-align: top;\n",
       "    }\n",
       "\n",
       "    .dataframe thead th {\n",
       "        text-align: right;\n",
       "    }\n",
       "</style>\n",
       "<table border=\"1\" class=\"dataframe\">\n",
       "  <thead>\n",
       "    <tr style=\"text-align: right;\">\n",
       "      <th></th>\n",
       "      <th>show_id</th>\n",
       "      <th>type</th>\n",
       "      <th>title</th>\n",
       "      <th>director</th>\n",
       "      <th>cast</th>\n",
       "      <th>country</th>\n",
       "      <th>date_added</th>\n",
       "      <th>release_year</th>\n",
       "      <th>duration</th>\n",
       "      <th>description</th>\n",
       "      <th>genre</th>\n",
       "    </tr>\n",
       "  </thead>\n",
       "  <tbody>\n",
       "    <tr>\n",
       "      <th>6</th>\n",
       "      <td>s8</td>\n",
       "      <td>Movie</td>\n",
       "      <td>187</td>\n",
       "      <td>Kevin Reynolds</td>\n",
       "      <td>Samuel L. Jackson, John Heard, Kelly Rowan, Cl...</td>\n",
       "      <td>United States</td>\n",
       "      <td>November 1, 2019</td>\n",
       "      <td>1997</td>\n",
       "      <td>119</td>\n",
       "      <td>After one of his high school students attacks ...</td>\n",
       "      <td>Dramas</td>\n",
       "    </tr>\n",
       "    <tr>\n",
       "      <th>118</th>\n",
       "      <td>s167</td>\n",
       "      <td>Movie</td>\n",
       "      <td>A Dangerous Woman</td>\n",
       "      <td>Stephen Gyllenhaal</td>\n",
       "      <td>Debra Winger, Barbara Hershey, Gabriel Byrne, ...</td>\n",
       "      <td>United States</td>\n",
       "      <td>April 1, 2018</td>\n",
       "      <td>1993</td>\n",
       "      <td>101</td>\n",
       "      <td>At the center of this engrossing melodrama is ...</td>\n",
       "      <td>Dramas</td>\n",
       "    </tr>\n",
       "    <tr>\n",
       "      <th>145</th>\n",
       "      <td>s211</td>\n",
       "      <td>Movie</td>\n",
       "      <td>A Night at the Roxbury</td>\n",
       "      <td>John Fortenberry</td>\n",
       "      <td>Will Ferrell, Chris Kattan, Dan Hedaya, Molly ...</td>\n",
       "      <td>United States</td>\n",
       "      <td>December 1, 2019</td>\n",
       "      <td>1998</td>\n",
       "      <td>82</td>\n",
       "      <td>After a run-in with Richard Grieco, dimwits Do...</td>\n",
       "      <td>Comedies</td>\n",
       "    </tr>\n",
       "    <tr>\n",
       "      <th>167</th>\n",
       "      <td>s239</td>\n",
       "      <td>Movie</td>\n",
       "      <td>A Thin Line Between Love &amp; Hate</td>\n",
       "      <td>Martin Lawrence</td>\n",
       "      <td>Martin Lawrence, Lynn Whitfield, Regina King, ...</td>\n",
       "      <td>United States</td>\n",
       "      <td>December 1, 2020</td>\n",
       "      <td>1996</td>\n",
       "      <td>108</td>\n",
       "      <td>When a philandering club promoter sets out to ...</td>\n",
       "      <td>Comedies</td>\n",
       "    </tr>\n",
       "    <tr>\n",
       "      <th>194</th>\n",
       "      <td>s274</td>\n",
       "      <td>Movie</td>\n",
       "      <td>Aashik Awara</td>\n",
       "      <td>Umesh Mehra</td>\n",
       "      <td>Saif Ali Khan, Mamta Kulkarni, Mohnish Bahl, S...</td>\n",
       "      <td>India</td>\n",
       "      <td>June 1, 2017</td>\n",
       "      <td>1993</td>\n",
       "      <td>154</td>\n",
       "      <td>Raised by a kindly thief, orphaned Jimmy goes ...</td>\n",
       "      <td>Dramas</td>\n",
       "    </tr>\n",
       "    <tr>\n",
       "      <th>...</th>\n",
       "      <td>...</td>\n",
       "      <td>...</td>\n",
       "      <td>...</td>\n",
       "      <td>...</td>\n",
       "      <td>...</td>\n",
       "      <td>...</td>\n",
       "      <td>...</td>\n",
       "      <td>...</td>\n",
       "      <td>...</td>\n",
       "      <td>...</td>\n",
       "      <td>...</td>\n",
       "    </tr>\n",
       "    <tr>\n",
       "      <th>4672</th>\n",
       "      <td>s7536</td>\n",
       "      <td>Movie</td>\n",
       "      <td>West Beirut</td>\n",
       "      <td>Ziad Doueiri</td>\n",
       "      <td>Rami Doueiri, Mohamad Chamas, Rola Al Amin, Ca...</td>\n",
       "      <td>France</td>\n",
       "      <td>October 19, 2020</td>\n",
       "      <td>1999</td>\n",
       "      <td>106</td>\n",
       "      <td>Three intrepid teens roam the streets of Beiru...</td>\n",
       "      <td>Dramas</td>\n",
       "    </tr>\n",
       "    <tr>\n",
       "      <th>4689</th>\n",
       "      <td>s7571</td>\n",
       "      <td>Movie</td>\n",
       "      <td>What's Eating Gilbert Grape</td>\n",
       "      <td>Lasse Hallström</td>\n",
       "      <td>Johnny Depp, Leonardo DiCaprio, Juliette Lewis...</td>\n",
       "      <td>United States</td>\n",
       "      <td>January 1, 2021</td>\n",
       "      <td>1993</td>\n",
       "      <td>118</td>\n",
       "      <td>In a backwater Iowa town, young Gilbert is tor...</td>\n",
       "      <td>Classic Movies</td>\n",
       "    </tr>\n",
       "    <tr>\n",
       "      <th>4718</th>\n",
       "      <td>s7624</td>\n",
       "      <td>Movie</td>\n",
       "      <td>Wild Wild West</td>\n",
       "      <td>Barry Sonnenfeld</td>\n",
       "      <td>Will Smith, Kevin Kline, Kenneth Branagh, Salm...</td>\n",
       "      <td>United States</td>\n",
       "      <td>January 1, 2020</td>\n",
       "      <td>1999</td>\n",
       "      <td>106</td>\n",
       "      <td>Armed with an ingenious arsenal, two top-notch...</td>\n",
       "      <td>Action</td>\n",
       "    </tr>\n",
       "    <tr>\n",
       "      <th>4746</th>\n",
       "      <td>s7682</td>\n",
       "      <td>Movie</td>\n",
       "      <td>Wyatt Earp</td>\n",
       "      <td>Lawrence Kasdan</td>\n",
       "      <td>Kevin Costner, Dennis Quaid, Gene Hackman, Dav...</td>\n",
       "      <td>United States</td>\n",
       "      <td>January 1, 2020</td>\n",
       "      <td>1994</td>\n",
       "      <td>191</td>\n",
       "      <td>Legendary lawman Wyatt Earp is continually at ...</td>\n",
       "      <td>Action</td>\n",
       "    </tr>\n",
       "    <tr>\n",
       "      <th>4756</th>\n",
       "      <td>s7695</td>\n",
       "      <td>Movie</td>\n",
       "      <td>Yaar Gaddar</td>\n",
       "      <td>Umesh Mehra</td>\n",
       "      <td>Mithun Chakraborty, Saif Ali Khan, Somy Ali, P...</td>\n",
       "      <td>India</td>\n",
       "      <td>July 1, 2017</td>\n",
       "      <td>1994</td>\n",
       "      <td>148</td>\n",
       "      <td>When his brother becomes involved in a deadly ...</td>\n",
       "      <td>Dramas</td>\n",
       "    </tr>\n",
       "  </tbody>\n",
       "</table>\n",
       "<p>183 rows × 11 columns</p>\n",
       "</div>"
      ],
      "text/plain": [
       "     show_id   type                            title            director  \\\n",
       "6         s8  Movie                              187      Kevin Reynolds   \n",
       "118     s167  Movie                A Dangerous Woman  Stephen Gyllenhaal   \n",
       "145     s211  Movie           A Night at the Roxbury    John Fortenberry   \n",
       "167     s239  Movie  A Thin Line Between Love & Hate     Martin Lawrence   \n",
       "194     s274  Movie                     Aashik Awara         Umesh Mehra   \n",
       "...      ...    ...                              ...                 ...   \n",
       "4672   s7536  Movie                      West Beirut        Ziad Doueiri   \n",
       "4689   s7571  Movie      What's Eating Gilbert Grape     Lasse Hallström   \n",
       "4718   s7624  Movie                   Wild Wild West    Barry Sonnenfeld   \n",
       "4746   s7682  Movie                       Wyatt Earp     Lawrence Kasdan   \n",
       "4756   s7695  Movie                      Yaar Gaddar         Umesh Mehra   \n",
       "\n",
       "                                                   cast        country  \\\n",
       "6     Samuel L. Jackson, John Heard, Kelly Rowan, Cl...  United States   \n",
       "118   Debra Winger, Barbara Hershey, Gabriel Byrne, ...  United States   \n",
       "145   Will Ferrell, Chris Kattan, Dan Hedaya, Molly ...  United States   \n",
       "167   Martin Lawrence, Lynn Whitfield, Regina King, ...  United States   \n",
       "194   Saif Ali Khan, Mamta Kulkarni, Mohnish Bahl, S...          India   \n",
       "...                                                 ...            ...   \n",
       "4672  Rami Doueiri, Mohamad Chamas, Rola Al Amin, Ca...         France   \n",
       "4689  Johnny Depp, Leonardo DiCaprio, Juliette Lewis...  United States   \n",
       "4718  Will Smith, Kevin Kline, Kenneth Branagh, Salm...  United States   \n",
       "4746  Kevin Costner, Dennis Quaid, Gene Hackman, Dav...  United States   \n",
       "4756  Mithun Chakraborty, Saif Ali Khan, Somy Ali, P...          India   \n",
       "\n",
       "            date_added  release_year  duration  \\\n",
       "6     November 1, 2019          1997       119   \n",
       "118      April 1, 2018          1993       101   \n",
       "145   December 1, 2019          1998        82   \n",
       "167   December 1, 2020          1996       108   \n",
       "194       June 1, 2017          1993       154   \n",
       "...                ...           ...       ...   \n",
       "4672  October 19, 2020          1999       106   \n",
       "4689   January 1, 2021          1993       118   \n",
       "4718   January 1, 2020          1999       106   \n",
       "4746   January 1, 2020          1994       191   \n",
       "4756      July 1, 2017          1994       148   \n",
       "\n",
       "                                            description           genre  \n",
       "6     After one of his high school students attacks ...          Dramas  \n",
       "118   At the center of this engrossing melodrama is ...          Dramas  \n",
       "145   After a run-in with Richard Grieco, dimwits Do...        Comedies  \n",
       "167   When a philandering club promoter sets out to ...        Comedies  \n",
       "194   Raised by a kindly thief, orphaned Jimmy goes ...          Dramas  \n",
       "...                                                 ...             ...  \n",
       "4672  Three intrepid teens roam the streets of Beiru...          Dramas  \n",
       "4689  In a backwater Iowa town, young Gilbert is tor...  Classic Movies  \n",
       "4718  Armed with an ingenious arsenal, two top-notch...          Action  \n",
       "4746  Legendary lawman Wyatt Earp is continually at ...          Action  \n",
       "4756  When his brother becomes involved in a deadly ...          Dramas  \n",
       "\n",
       "[183 rows x 11 columns]"
      ]
     },
     "execution_count": 5,
     "metadata": {},
     "output_type": "execute_result"
    }
   ],
   "source": [
    "#Check dataframe to make sure it looks good\n",
    "movies_90s"
   ]
  },
  {
   "cell_type": "code",
   "execution_count": 6,
   "id": "d00cad3c-0310-46b6-b476-9ca2185fd2a6",
   "metadata": {
    "executionCancelledAt": null,
    "executionTime": 51,
    "lastExecutedAt": 1732298823312,
    "lastExecutedByKernel": "af9524d5-7624-4f41-a6bf-c9628ecefcee",
    "lastScheduledRunId": null,
    "lastSuccessfullyExecutedCode": "len(movies_90s)"
   },
   "outputs": [
    {
     "data": {
      "text/plain": [
       "183"
      ]
     },
     "execution_count": 6,
     "metadata": {},
     "output_type": "execute_result"
    }
   ],
   "source": [
    "# Or check len to make get a quick tally on how many records it returned.\n",
    "len(movies_90s)"
   ]
  },
  {
   "cell_type": "code",
   "execution_count": 7,
   "id": "46648beb-f017-4e0e-9f61-ee408e8396d9",
   "metadata": {
    "executionCancelledAt": null,
    "executionTime": 203,
    "lastExecutedAt": 1732298823515,
    "lastExecutedByKernel": "af9524d5-7624-4f41-a6bf-c9628ecefcee",
    "lastScheduledRunId": null,
    "lastSuccessfullyExecutedCode": "plt.hist(movies_90s['duration'], bins=20)\n\n\nplt.xlabel('Movie Duration (min)')\nplt.ylabel('Total')\n\nplt.show()"
   },
   "outputs": [
    {
     "data": {
      "image/png": "[encoded data removed]",
      "text/plain": [
       "<Figure size 432x288 with 1 Axes>"
      ]
     },
     "metadata": {
      "needs_background": "light"
     },
     "output_type": "display_data"
    }
   ],
   "source": [
    "# Plot a histrogram to get a quick answer on what the most frequent movie duration was during the 1990s\n",
    "\n",
    "plt.hist(movies_90s['duration'], bins=100)\n",
    "\n",
    "\n",
    "plt.xlabel('Movie Duration (min)')\n",
    "plt.ylabel('Total')\n",
    "\n",
    "plt.show()"
   ]
  },
  {
   "cell_type": "code",
   "execution_count": 8,
   "id": "550a433f-4d95-442d-8f23-82833620938e",
   "metadata": {
    "executionCancelledAt": null,
    "executionTime": 50,
    "lastExecutedAt": 1732298823623,
    "lastExecutedByKernel": "af9524d5-7624-4f41-a6bf-c9628ecefcee",
    "lastScheduledRunId": null,
    "lastSuccessfullyExecutedCode": "#Most frequent movie duration based on visualizing during in a histogram\nduration = 90"
   },
   "outputs": [],
   "source": [
    "#Most frequent movie duration based on visualizing during in a histogram\n",
    "duration = 90"
   ]
  },
  {
   "cell_type": "code",
   "execution_count": 9,
   "id": "c59d13cc",
   "metadata": {
    "scrolled": true
   },
   "outputs": [
    {
     "data": {
      "text/plain": [
       "94     7\n",
       "101    6\n",
       "108    5\n",
       "93     5\n",
       "96     5\n",
       "      ..\n",
       "109    1\n",
       "79     1\n",
       "189    1\n",
       "98     1\n",
       "191    1\n",
       "Name: duration, Length: 91, dtype: int64"
      ]
     },
     "execution_count": 9,
     "metadata": {},
     "output_type": "execute_result"
    }
   ],
   "source": [
    "# Now that I've been through much of this track, I would use value_counts() to find the most frequent duration, but \n",
    "# the project guide specifically recommended using the visualization as part of answering this question since it\n",
    "# was mainly looking for a general answer, so that is why I'm using a histogram above to answer this part\n",
    "# I played around with different bucket amounts to product a more accurate number.\n",
    "\n",
    "movies_90s['duration'].value_counts()"
   ]
  },
  {
   "cell_type": "code",
   "execution_count": 10,
   "id": "81392dbb-5287-4d2c-b97c-beafca7eedbc",
   "metadata": {
    "executionCancelledAt": null,
    "executionTime": 58,
    "lastExecutedAt": 1732298823573,
    "lastExecutedByKernel": "af9524d5-7624-4f41-a6bf-c9628ecefcee",
    "lastScheduledRunId": null,
    "lastSuccessfullyExecutedCode": "movies_90s['genre'].value_counts()",
    "outputsMetadata": {
     "0": {
      "height": 313,
      "type": "dataFrame"
     }
    },
    "scrolled": false
   },
   "outputs": [
    {
     "data": {
      "text/plain": [
       "Action            48\n",
       "Dramas            44\n",
       "Comedies          40\n",
       "Children          15\n",
       "Classic Movies    15\n",
       "Stand-Up           8\n",
       "Thrillers          5\n",
       "Horror Movies      4\n",
       "Documentaries      2\n",
       "Cult Movies        2\n",
       "Name: genre, dtype: int64"
      ]
     },
     "execution_count": 10,
     "metadata": {},
     "output_type": "execute_result"
    }
   ],
   "source": [
    "# Check total number of 90s Action movies in this Netflix dataset\n",
    "movies_90s['genre'].value_counts()"
   ]
  },
  {
   "cell_type": "code",
   "execution_count": 11,
   "id": "2b351968-2434-4515-be0f-8ec424f982c9",
   "metadata": {
    "executionCancelledAt": null,
    "executionTime": 52,
    "lastExecutedAt": 1732298823675,
    "lastExecutedByKernel": "af9524d5-7624-4f41-a6bf-c9628ecefcee",
    "lastScheduledRunId": null,
    "lastSuccessfullyExecutedCode": "action = movies_90s[movies_90s['genre'] == 'Action']"
   },
   "outputs": [],
   "source": [
    "# Subset for only those Action movies\n",
    "action = movies_90s[movies_90s['genre'] == 'Action']"
   ]
  },
  {
   "cell_type": "code",
   "execution_count": 22,
   "id": "c6f2c120-9e3e-48f2-801f-a0df76891da6",
   "metadata": {
    "executionCancelledAt": null,
    "executionTime": 48,
    "lastExecutedAt": 1732298823784,
    "lastExecutedByKernel": "af9524d5-7624-4f41-a6bf-c9628ecefcee",
    "lastScheduledRunId": null,
    "lastSuccessfullyExecutedCode": "total_short_action = action[action['duration'] < 90]"
   },
   "outputs": [],
   "source": [
    "# Filter & subset for only the short movies under 90 minutes, save the total to \"short_movie_count\"\n",
    "\n",
    "short_movie_count = (action['duration'] < 90).sum()"
   ]
  },
  {
   "cell_type": "code",
   "execution_count": 24,
   "id": "12a893fd-59b4-4821-9056-fa4faf6ad4d5",
   "metadata": {
    "executionCancelledAt": null,
    "executionTime": 47,
    "lastExecutedAt": 1732298823883,
    "lastExecutedByKernel": "af9524d5-7624-4f41-a6bf-c9628ecefcee",
    "lastScheduledRunId": null,
    "lastSuccessfullyExecutedCode": "print(short_movie_count)",
    "outputsMetadata": {
     "0": {
      "height": 38,
      "type": "stream"
     }
    }
   },
   "outputs": [
    {
     "name": "stdout",
     "output_type": "stream",
     "text": [
      "7\n"
     ]
    }
   ],
   "source": [
    "# Check short_movie_count\n",
    "print(short_movie_count)"
   ]
  },
  {
   "cell_type": "markdown",
   "id": "f72cf835",
   "metadata": {},
   "source": [
    "After submitting my solution, I received the notification that this was correct!\n",
    "<br>\n",
    "<br>\n",
    "\n",
    "<center><img src=\"Correct_Submission.jpg\" ></center>"
   ]
  },
  {
   "cell_type": "code",
   "execution_count": null,
   "id": "3cb04640",
   "metadata": {},
   "outputs": [],
   "source": []
  }
 ],
 "metadata": {
  "colab": {
   "name": "Welcome to DataCamp Workspaces.ipynb",
   "provenance": []
  },
  "editor": "DataLab",
  "kernelspec": {
   "display_name": "Python 3 (ipykernel)",
   "language": "python",
   "name": "python3"
  },
  "language_info": {
   "codemirror_mode": {
    "name": "ipython",
    "version": 3
   },
   "file_extension": ".py",
   "mimetype": "text/x-python",
   "name": "python",
   "nbconvert_exporter": "python",
   "pygments_lexer": "ipython3",
   "version": "3.9.7"
  }
 },
 "nbformat": 4,
 "nbformat_minor": 5
}
