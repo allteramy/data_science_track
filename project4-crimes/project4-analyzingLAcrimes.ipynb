{
 "cells": [
  {
   "cell_type": "markdown",
   "id": "31ab2131-3049-4d8d-b9dc-d195f72af27a",
   "metadata": {},
   "source": [
    "![Los Angeles skyline](la_skyline.jpg)\n",
    "\n",
    "Los Angeles, California 😎. The City of Angels. Tinseltown. The Entertainment Capital of the World! \n",
    "\n",
    "Known for its warm weather, palm trees, sprawling coastline, and Hollywood, along with producing some of the most iconic films and songs. However, as with any highly populated city, it isn't always glamorous and there can be a large volume of crime. That's where you can help!\n",
    "\n",
    "You have been asked to support the Los Angeles Police Department (LAPD) by analyzing crime data to identify patterns in criminal behavior. They plan to use your insights to allocate resources effectively to tackle various crimes in different areas.\n",
    "\n",
    "## The Data\n",
    "\n",
    "They have provided you with a single dataset to use. A summary and preview are provided below.\n",
    "\n",
    "It is a modified version of the original data, which is publicly available from Los Angeles Open Data.\n",
    "\n",
    "# crimes.csv\n",
    "\n",
    "| Column     | Description              |\n",
    "|------------|--------------------------|\n",
    "| `'DR_NO'` | Division of Records Number: Official file number made up of a 2-digit year, area ID, and 5 digits. |\n",
    "| `'Date Rptd'` | Date reported - MM/DD/YYYY. |\n",
    "| `'DATE OCC'` | Date of occurrence - MM/DD/YYYY. |\n",
    "| `'TIME OCC'` | In 24-hour military time. |\n",
    "| `'AREA NAME'` | The 21 Geographic Areas or Patrol Divisions are also given a name designation that references a landmark or the surrounding community that it is responsible for. For example, the 77th Street Division is located at the intersection of South Broadway and 77th Street, serving neighborhoods in South Los Angeles. |\n",
    "| `'Crm Cd Desc'` | Indicates the crime committed. |\n",
    "| `'Vict Age'` | Victim's age in years. |\n",
    "| `'Vict Sex'` | Victim's sex: `F`: Female, `M`: Male, `X`: Unknown. |\n",
    "| `'Vict Descent'` | Victim's descent:<ul><li>`A` - Other Asian</li><li>`B` - Black</li><li>`C` - Chinese</li><li>`D` - Cambodian</li><li>`F` - Filipino</li><li>`G` - Guamanian</li><li>`H` - Hispanic/Latin/Mexican</li><li>`I` - American Indian/Alaskan Native</li><li>`J` - Japanese</li><li>`K` - Korean</li><li>`L` - Laotian</li><li>`O` - Other</li><li>`P` - Pacific Islander</li><li>`S` - Samoan</li><li>`U` - Hawaiian</li><li>`V` - Vietnamese</li><li>`W` - White</li><li>`X` - Unknown</li><li>`Z` - Asian Indian</li> |\n",
    "| `'Weapon Desc'` | Description of the weapon used (if applicable). |\n",
    "| `'Status Desc'` | Crime status. |\n",
    "| `'LOCATION'` | Street address of the crime. |"
   ]
  },
  {
   "cell_type": "code",
   "execution_count": 28,
   "id": "7c6c3c36-5c8b-4cce-8681-95292b8f0861",
   "metadata": {
    "executionCancelledAt": null,
    "executionTime": 336,
    "lastExecutedAt": 1733413018117,
    "lastExecutedByKernel": "0c59753e-c85f-4be2-b788-bb11ddf8047a",
    "lastScheduledRunId": null,
    "lastSuccessfullyExecutedCode": "# Re-run this cell\n# Import required libraries\nimport pandas as pd\nimport numpy as np\nimport matplotlib.pyplot as plt\nimport seaborn as sns\ncrimes = pd.read_csv(\"crimes.csv\", parse_dates=[\"Date Rptd\", \"DATE OCC\"], dtype={\"TIME OCC\": str})\ncrimes.head()",
    "outputsMetadata": {
     "0": {
      "height": 265,
      "type": "dataFrame"
     }
    }
   },
   "outputs": [
    {
     "data": {
      "application/com.datacamp.data-table.v2+json": {
       "table": {
        "data": {
         "AREA NAME": [
          "Southwest",
          "Olympic",
          "Hollywood",
          "77th Street",
          "Rampart"
         ],
         "Crm Cd Desc": [
          "THEFT OF IDENTITY",
          "THEFT OF IDENTITY",
          "THEFT OF IDENTITY",
          "THEFT OF IDENTITY",
          "THEFT OF IDENTITY"
         ],
         "DATE OCC": [
          "2020-05-12T00:00:00.000",
          "2020-06-04T00:00:00.000",
          "2020-08-17T00:00:00.000",
          "2020-01-27T00:00:00.000",
          "2020-07-14T00:00:00.000"
         ],
         "DR_NO": [
          220314085,
          222013040,
          220614831,
          231207725,
          220213256
         ],
         "Date Rptd": [
          "2022-07-22T00:00:00.000",
          "2022-08-06T00:00:00.000",
          "2022-08-18T00:00:00.000",
          "2023-02-27T00:00:00.000",
          "2022-07-14T00:00:00.000"
         ],
         "LOCATION": [
          "2500 S  SYCAMORE                     AV",
          "3300    SAN MARINO                   ST",
          "1900    TRANSIENT",
          "6200    4TH                          AV",
          "1200 W  7TH                          ST"
         ],
         "Status Desc": [
          "Invest Cont",
          "Invest Cont",
          "Invest Cont",
          "Invest Cont",
          "Invest Cont"
         ],
         "TIME OCC": [
          "1110",
          "1620",
          "1200",
          "0635",
          "0900"
         ],
         "Vict Age": [
          27,
          60,
          28,
          37,
          79
         ],
         "Vict Descent": [
          "B",
          "H",
          "H",
          "H",
          "B"
         ],
         "Vict Sex": [
          "F",
          "M",
          "M",
          "M",
          "M"
         ],
         "Weapon Desc": [
          null,
          null,
          null,
          null,
          null
         ],
         "index": [
          0,
          1,
          2,
          3,
          4
         ]
        },
        "schema": {
         "fields": [
          {
           "name": "index",
           "type": "integer"
          },
          {
           "name": "DR_NO",
           "type": "integer"
          },
          {
           "name": "Date Rptd",
           "type": "datetime"
          },
          {
           "name": "DATE OCC",
           "type": "datetime"
          },
          {
           "name": "TIME OCC",
           "type": "string"
          },
          {
           "name": "AREA NAME",
           "type": "string"
          },
          {
           "name": "Crm Cd Desc",
           "type": "string"
          },
          {
           "name": "Vict Age",
           "type": "integer"
          },
          {
           "name": "Vict Sex",
           "type": "string"
          },
          {
           "name": "Vict Descent",
           "type": "string"
          },
          {
           "name": "Weapon Desc",
           "type": "string"
          },
          {
           "name": "Status Desc",
           "type": "string"
          },
          {
           "name": "LOCATION",
           "type": "string"
          }
         ],
         "pandas_version": "1.4.0",
         "primaryKey": [
          "index"
         ]
        }
       },
       "total_rows": 5,
       "truncation_type": null
      },
      "text/html": [
       "<div>\n",
       "<style scoped>\n",
       "    .dataframe tbody tr th:only-of-type {\n",
       "        vertical-align: middle;\n",
       "    }\n",
       "\n",
       "    .dataframe tbody tr th {\n",
       "        vertical-align: top;\n",
       "    }\n",
       "\n",
       "    .dataframe thead th {\n",
       "        text-align: right;\n",
       "    }\n",
       "</style>\n",
       "<table border=\"1\" class=\"dataframe\">\n",
       "  <thead>\n",
       "    <tr style=\"text-align: right;\">\n",
       "      <th></th>\n",
       "      <th>DR_NO</th>\n",
       "      <th>Date Rptd</th>\n",
       "      <th>DATE OCC</th>\n",
       "      <th>TIME OCC</th>\n",
       "      <th>AREA NAME</th>\n",
       "      <th>Crm Cd Desc</th>\n",
       "      <th>Vict Age</th>\n",
       "      <th>Vict Sex</th>\n",
       "      <th>Vict Descent</th>\n",
       "      <th>Weapon Desc</th>\n",
       "      <th>Status Desc</th>\n",
       "      <th>LOCATION</th>\n",
       "    </tr>\n",
       "  </thead>\n",
       "  <tbody>\n",
       "    <tr>\n",
       "      <th>0</th>\n",
       "      <td>220314085</td>\n",
       "      <td>2022-07-22</td>\n",
       "      <td>2020-05-12</td>\n",
       "      <td>1110</td>\n",
       "      <td>Southwest</td>\n",
       "      <td>THEFT OF IDENTITY</td>\n",
       "      <td>27</td>\n",
       "      <td>F</td>\n",
       "      <td>B</td>\n",
       "      <td>NaN</td>\n",
       "      <td>Invest Cont</td>\n",
       "      <td>2500 S  SYCAMORE                     AV</td>\n",
       "    </tr>\n",
       "    <tr>\n",
       "      <th>1</th>\n",
       "      <td>222013040</td>\n",
       "      <td>2022-08-06</td>\n",
       "      <td>2020-06-04</td>\n",
       "      <td>1620</td>\n",
       "      <td>Olympic</td>\n",
       "      <td>THEFT OF IDENTITY</td>\n",
       "      <td>60</td>\n",
       "      <td>M</td>\n",
       "      <td>H</td>\n",
       "      <td>NaN</td>\n",
       "      <td>Invest Cont</td>\n",
       "      <td>3300    SAN MARINO                   ST</td>\n",
       "    </tr>\n",
       "    <tr>\n",
       "      <th>2</th>\n",
       "      <td>220614831</td>\n",
       "      <td>2022-08-18</td>\n",
       "      <td>2020-08-17</td>\n",
       "      <td>1200</td>\n",
       "      <td>Hollywood</td>\n",
       "      <td>THEFT OF IDENTITY</td>\n",
       "      <td>28</td>\n",
       "      <td>M</td>\n",
       "      <td>H</td>\n",
       "      <td>NaN</td>\n",
       "      <td>Invest Cont</td>\n",
       "      <td>1900    TRANSIENT</td>\n",
       "    </tr>\n",
       "    <tr>\n",
       "      <th>3</th>\n",
       "      <td>231207725</td>\n",
       "      <td>2023-02-27</td>\n",
       "      <td>2020-01-27</td>\n",
       "      <td>0635</td>\n",
       "      <td>77th Street</td>\n",
       "      <td>THEFT OF IDENTITY</td>\n",
       "      <td>37</td>\n",
       "      <td>M</td>\n",
       "      <td>H</td>\n",
       "      <td>NaN</td>\n",
       "      <td>Invest Cont</td>\n",
       "      <td>6200    4TH                          AV</td>\n",
       "    </tr>\n",
       "    <tr>\n",
       "      <th>4</th>\n",
       "      <td>220213256</td>\n",
       "      <td>2022-07-14</td>\n",
       "      <td>2020-07-14</td>\n",
       "      <td>0900</td>\n",
       "      <td>Rampart</td>\n",
       "      <td>THEFT OF IDENTITY</td>\n",
       "      <td>79</td>\n",
       "      <td>M</td>\n",
       "      <td>B</td>\n",
       "      <td>NaN</td>\n",
       "      <td>Invest Cont</td>\n",
       "      <td>1200 W  7TH                          ST</td>\n",
       "    </tr>\n",
       "  </tbody>\n",
       "</table>\n",
       "</div>"
      ],
      "text/plain": [
       "       DR_NO  Date Rptd  ...  Status Desc                                 LOCATION\n",
       "0  220314085 2022-07-22  ...  Invest Cont  2500 S  SYCAMORE                     AV\n",
       "1  222013040 2022-08-06  ...  Invest Cont  3300    SAN MARINO                   ST\n",
       "2  220614831 2022-08-18  ...  Invest Cont                        1900    TRANSIENT\n",
       "3  231207725 2023-02-27  ...  Invest Cont  6200    4TH                          AV\n",
       "4  220213256 2022-07-14  ...  Invest Cont  1200 W  7TH                          ST\n",
       "\n",
       "[5 rows x 12 columns]"
      ]
     },
     "execution_count": 28,
     "metadata": {},
     "output_type": "execute_result"
    }
   ],
   "source": [
    "# Re-run this cell\n",
    "# Import required libraries\n",
    "import pandas as pd\n",
    "import numpy as np\n",
    "import matplotlib.pyplot as plt\n",
    "import seaborn as sns\n",
    "crimes = pd.read_csv(\"crimes.csv\", parse_dates=[\"Date Rptd\", \"DATE OCC\"], dtype={\"TIME OCC\": str})\n",
    "crimes.head()"
   ]
  },
  {
   "cell_type": "code",
   "execution_count": 29,
   "id": "53eada96-447c-46c3-9848-f4ca3de53d06",
   "metadata": {
    "executionCancelledAt": null,
    "executionTime": 48,
    "lastExecutedAt": 1733413018165,
    "lastExecutedByKernel": "0c59753e-c85f-4be2-b788-bb11ddf8047a",
    "lastScheduledRunId": null,
    "lastSuccessfullyExecutedCode": "# Start coding here\n# Use as many cells as you need"
   },
   "outputs": [],
   "source": [
    "# Start coding here\n",
    "# Use as many cells as you need"
   ]
  },
  {
   "cell_type": "code",
   "execution_count": 30,
   "id": "36b30758-d35b-4621-a0c6-d5e9d31fe9d9",
   "metadata": {
    "executionCancelledAt": null,
    "executionTime": 60,
    "lastExecutedAt": 1733413018226,
    "lastExecutedByKernel": "0c59753e-c85f-4be2-b788-bb11ddf8047a",
    "lastScheduledRunId": null,
    "lastSuccessfullyExecutedCode": "crimes['HOUR OCC'] = crimes['TIME OCC'].str[:2].astype(int)"
   },
   "outputs": [],
   "source": [
    "crimes['HOUR OCC'] = crimes['TIME OCC'].str[:2].astype(int)"
   ]
  },
  {
   "cell_type": "code",
   "execution_count": 31,
   "id": "1dcfe5ee-c57b-4eed-b8d0-a848422f1e9b",
   "metadata": {
    "executionCancelledAt": null,
    "executionTime": 49,
    "lastExecutedAt": 1733413018275,
    "lastExecutedByKernel": "0c59753e-c85f-4be2-b788-bb11ddf8047a",
    "lastScheduledRunId": null,
    "lastSuccessfullyExecutedCode": "crimes.head()",
    "outputsMetadata": {
     "0": {
      "height": 265,
      "type": "dataFrame"
     }
    }
   },
   "outputs": [
    {
     "data": {
      "application/com.datacamp.data-table.v2+json": {
       "table": {
        "data": {
         "AREA NAME": [
          "Southwest",
          "Olympic",
          "Hollywood",
          "77th Street",
          "Rampart"
         ],
         "Crm Cd Desc": [
          "THEFT OF IDENTITY",
          "THEFT OF IDENTITY",
          "THEFT OF IDENTITY",
          "THEFT OF IDENTITY",
          "THEFT OF IDENTITY"
         ],
         "DATE OCC": [
          "2020-05-12T00:00:00.000",
          "2020-06-04T00:00:00.000",
          "2020-08-17T00:00:00.000",
          "2020-01-27T00:00:00.000",
          "2020-07-14T00:00:00.000"
         ],
         "DR_NO": [
          220314085,
          222013040,
          220614831,
          231207725,
          220213256
         ],
         "Date Rptd": [
          "2022-07-22T00:00:00.000",
          "2022-08-06T00:00:00.000",
          "2022-08-18T00:00:00.000",
          "2023-02-27T00:00:00.000",
          "2022-07-14T00:00:00.000"
         ],
         "HOUR OCC": [
          11,
          16,
          12,
          6,
          9
         ],
         "LOCATION": [
          "2500 S  SYCAMORE                     AV",
          "3300    SAN MARINO                   ST",
          "1900    TRANSIENT",
          "6200    4TH                          AV",
          "1200 W  7TH                          ST"
         ],
         "Status Desc": [
          "Invest Cont",
          "Invest Cont",
          "Invest Cont",
          "Invest Cont",
          "Invest Cont"
         ],
         "TIME OCC": [
          "1110",
          "1620",
          "1200",
          "0635",
          "0900"
         ],
         "Vict Age": [
          27,
          60,
          28,
          37,
          79
         ],
         "Vict Descent": [
          "B",
          "H",
          "H",
          "H",
          "B"
         ],
         "Vict Sex": [
          "F",
          "M",
          "M",
          "M",
          "M"
         ],
         "Weapon Desc": [
          null,
          null,
          null,
          null,
          null
         ],
         "index": [
          0,
          1,
          2,
          3,
          4
         ]
        },
        "schema": {
         "fields": [
          {
           "name": "index",
           "type": "integer"
          },
          {
           "name": "DR_NO",
           "type": "integer"
          },
          {
           "name": "Date Rptd",
           "type": "datetime"
          },
          {
           "name": "DATE OCC",
           "type": "datetime"
          },
          {
           "name": "TIME OCC",
           "type": "string"
          },
          {
           "name": "AREA NAME",
           "type": "string"
          },
          {
           "name": "Crm Cd Desc",
           "type": "string"
          },
          {
           "name": "Vict Age",
           "type": "integer"
          },
          {
           "name": "Vict Sex",
           "type": "string"
          },
          {
           "name": "Vict Descent",
           "type": "string"
          },
          {
           "name": "Weapon Desc",
           "type": "string"
          },
          {
           "name": "Status Desc",
           "type": "string"
          },
          {
           "name": "LOCATION",
           "type": "string"
          },
          {
           "name": "HOUR OCC",
           "type": "integer"
          }
         ],
         "pandas_version": "1.4.0",
         "primaryKey": [
          "index"
         ]
        }
       },
       "total_rows": 5,
       "truncation_type": null
      },
      "text/html": [
       "<div>\n",
       "<style scoped>\n",
       "    .dataframe tbody tr th:only-of-type {\n",
       "        vertical-align: middle;\n",
       "    }\n",
       "\n",
       "    .dataframe tbody tr th {\n",
       "        vertical-align: top;\n",
       "    }\n",
       "\n",
       "    .dataframe thead th {\n",
       "        text-align: right;\n",
       "    }\n",
       "</style>\n",
       "<table border=\"1\" class=\"dataframe\">\n",
       "  <thead>\n",
       "    <tr style=\"text-align: right;\">\n",
       "      <th></th>\n",
       "      <th>DR_NO</th>\n",
       "      <th>Date Rptd</th>\n",
       "      <th>DATE OCC</th>\n",
       "      <th>TIME OCC</th>\n",
       "      <th>AREA NAME</th>\n",
       "      <th>Crm Cd Desc</th>\n",
       "      <th>Vict Age</th>\n",
       "      <th>Vict Sex</th>\n",
       "      <th>Vict Descent</th>\n",
       "      <th>Weapon Desc</th>\n",
       "      <th>Status Desc</th>\n",
       "      <th>LOCATION</th>\n",
       "      <th>HOUR OCC</th>\n",
       "    </tr>\n",
       "  </thead>\n",
       "  <tbody>\n",
       "    <tr>\n",
       "      <th>0</th>\n",
       "      <td>220314085</td>\n",
       "      <td>2022-07-22</td>\n",
       "      <td>2020-05-12</td>\n",
       "      <td>1110</td>\n",
       "      <td>Southwest</td>\n",
       "      <td>THEFT OF IDENTITY</td>\n",
       "      <td>27</td>\n",
       "      <td>F</td>\n",
       "      <td>B</td>\n",
       "      <td>NaN</td>\n",
       "      <td>Invest Cont</td>\n",
       "      <td>2500 S  SYCAMORE                     AV</td>\n",
       "      <td>11</td>\n",
       "    </tr>\n",
       "    <tr>\n",
       "      <th>1</th>\n",
       "      <td>222013040</td>\n",
       "      <td>2022-08-06</td>\n",
       "      <td>2020-06-04</td>\n",
       "      <td>1620</td>\n",
       "      <td>Olympic</td>\n",
       "      <td>THEFT OF IDENTITY</td>\n",
       "      <td>60</td>\n",
       "      <td>M</td>\n",
       "      <td>H</td>\n",
       "      <td>NaN</td>\n",
       "      <td>Invest Cont</td>\n",
       "      <td>3300    SAN MARINO                   ST</td>\n",
       "      <td>16</td>\n",
       "    </tr>\n",
       "    <tr>\n",
       "      <th>2</th>\n",
       "      <td>220614831</td>\n",
       "      <td>2022-08-18</td>\n",
       "      <td>2020-08-17</td>\n",
       "      <td>1200</td>\n",
       "      <td>Hollywood</td>\n",
       "      <td>THEFT OF IDENTITY</td>\n",
       "      <td>28</td>\n",
       "      <td>M</td>\n",
       "      <td>H</td>\n",
       "      <td>NaN</td>\n",
       "      <td>Invest Cont</td>\n",
       "      <td>1900    TRANSIENT</td>\n",
       "      <td>12</td>\n",
       "    </tr>\n",
       "    <tr>\n",
       "      <th>3</th>\n",
       "      <td>231207725</td>\n",
       "      <td>2023-02-27</td>\n",
       "      <td>2020-01-27</td>\n",
       "      <td>0635</td>\n",
       "      <td>77th Street</td>\n",
       "      <td>THEFT OF IDENTITY</td>\n",
       "      <td>37</td>\n",
       "      <td>M</td>\n",
       "      <td>H</td>\n",
       "      <td>NaN</td>\n",
       "      <td>Invest Cont</td>\n",
       "      <td>6200    4TH                          AV</td>\n",
       "      <td>6</td>\n",
       "    </tr>\n",
       "    <tr>\n",
       "      <th>4</th>\n",
       "      <td>220213256</td>\n",
       "      <td>2022-07-14</td>\n",
       "      <td>2020-07-14</td>\n",
       "      <td>0900</td>\n",
       "      <td>Rampart</td>\n",
       "      <td>THEFT OF IDENTITY</td>\n",
       "      <td>79</td>\n",
       "      <td>M</td>\n",
       "      <td>B</td>\n",
       "      <td>NaN</td>\n",
       "      <td>Invest Cont</td>\n",
       "      <td>1200 W  7TH                          ST</td>\n",
       "      <td>9</td>\n",
       "    </tr>\n",
       "  </tbody>\n",
       "</table>\n",
       "</div>"
      ],
      "text/plain": [
       "       DR_NO  Date Rptd  ...                                 LOCATION HOUR OCC\n",
       "0  220314085 2022-07-22  ...  2500 S  SYCAMORE                     AV       11\n",
       "1  222013040 2022-08-06  ...  3300    SAN MARINO                   ST       16\n",
       "2  220614831 2022-08-18  ...                        1900    TRANSIENT       12\n",
       "3  231207725 2023-02-27  ...  6200    4TH                          AV        6\n",
       "4  220213256 2022-07-14  ...  1200 W  7TH                          ST        9\n",
       "\n",
       "[5 rows x 13 columns]"
      ]
     },
     "execution_count": 31,
     "metadata": {},
     "output_type": "execute_result"
    }
   ],
   "source": [
    "crimes.head()"
   ]
  },
  {
   "cell_type": "code",
   "execution_count": 32,
   "id": "4e20d8e3-e582-43f6-b3aa-416c8d408469",
   "metadata": {
    "executionCancelledAt": null,
    "executionTime": 54,
    "lastExecutedAt": 1733413018329,
    "lastExecutedByKernel": "0c59753e-c85f-4be2-b788-bb11ddf8047a",
    "lastScheduledRunId": null,
    "lastSuccessfullyExecutedCode": "crime_hour_stats = crimes.groupby('HOUR OCC', as_index=False)['HOUR OCC'].value_counts()"
   },
   "outputs": [],
   "source": [
    "crime_hour_stats = crimes.groupby('HOUR OCC', as_index=False)['HOUR OCC'].value_counts()"
   ]
  },
  {
   "cell_type": "code",
   "execution_count": 33,
   "id": "dd3336ea-3a62-44a4-8895-b0f9d319d6a7",
   "metadata": {
    "executionCancelledAt": null,
    "executionTime": 50,
    "lastExecutedAt": 1733413018379,
    "lastExecutedByKernel": "0c59753e-c85f-4be2-b788-bb11ddf8047a",
    "lastScheduledRunId": null,
    "lastSuccessfullyExecutedCode": "peak_crime_hour = crime_hour_stats[crime_hour_stats['count'] == crime_hour_stats['count'].max()]['HOUR OCC'].values[0]"
   },
   "outputs": [],
   "source": [
    "peak_crime_hour = crime_hour_stats[crime_hour_stats['count'] == crime_hour_stats['count'].max()]['HOUR OCC'].values[0]"
   ]
  },
  {
   "cell_type": "code",
   "execution_count": 34,
   "id": "47ed416b-6684-4ea5-bbcf-7cfae0a90a44",
   "metadata": {
    "executionCancelledAt": null,
    "executionTime": 50,
    "lastExecutedAt": 1733413018429,
    "lastExecutedByKernel": "0c59753e-c85f-4be2-b788-bb11ddf8047a",
    "lastScheduledRunId": null,
    "lastSuccessfullyExecutedCode": "peak_crime_hour",
    "outputsMetadata": {
     "0": {
      "height": 136,
      "type": "dataFrame"
     }
    }
   },
   "outputs": [
    {
     "data": {
      "text/plain": [
       "12"
      ]
     },
     "execution_count": 34,
     "metadata": {},
     "output_type": "execute_result"
    }
   ],
   "source": [
    "peak_crime_hour"
   ]
  },
  {
   "cell_type": "code",
   "execution_count": 35,
   "id": "4856ac71-5df8-492b-af80-b955fda6cc05",
   "metadata": {
    "executionCancelledAt": null,
    "executionTime": 514,
    "lastExecutedAt": 1733413018943,
    "lastExecutedByKernel": "0c59753e-c85f-4be2-b788-bb11ddf8047a",
    "lastScheduledRunId": null,
    "lastSuccessfullyExecutedCode": "sns.countplot(data=crimes, x='HOUR OCC')\nplt.title('Crime Frequency Per Hour of the Day')\nplt.show()"
   },
   "outputs": [
    {
     "data": {
      "image/png": "[encoded data removed]",
      "text/plain": [
       "<Figure size 640x480 with 1 Axes>"
      ]
     },
     "metadata": {
      "image/png": {
       "height": 453,
       "width": 584
      }
     },
     "output_type": "display_data"
    }
   ],
   "source": [
    "sns.countplot(data=crimes, x='HOUR OCC')\n",
    "plt.title('Crime Frequency Per Hour of the Day')\n",
    "plt.show()"
   ]
  },
  {
   "cell_type": "code",
   "execution_count": 36,
   "id": "1e81d654-a54c-4aee-b471-4155c2f67210",
   "metadata": {
    "executionCancelledAt": null,
    "executionTime": 76,
    "lastExecutedAt": 1733413019019,
    "lastExecutedByKernel": "0c59753e-c85f-4be2-b788-bb11ddf8047a",
    "lastScheduledRunId": null,
    "lastSuccessfullyExecutedCode": "crimes.dtypes"
   },
   "outputs": [
    {
     "data": {
      "text/plain": [
       "DR_NO                    int64\n",
       "Date Rptd       datetime64[ns]\n",
       "DATE OCC        datetime64[ns]\n",
       "TIME OCC                object\n",
       "AREA NAME               object\n",
       "Crm Cd Desc             object\n",
       "Vict Age                 int64\n",
       "Vict Sex                object\n",
       "Vict Descent            object\n",
       "Weapon Desc             object\n",
       "Status Desc             object\n",
       "LOCATION                object\n",
       "HOUR OCC                 int64\n",
       "dtype: object"
      ]
     },
     "execution_count": 36,
     "metadata": {},
     "output_type": "execute_result"
    }
   ],
   "source": [
    "crimes.dtypes"
   ]
  },
  {
   "cell_type": "code",
   "execution_count": 37,
   "id": "525868f2-2cca-42af-9150-84fe33f8242a",
   "metadata": {
    "executionCancelledAt": null,
    "executionTime": 48,
    "lastExecutedAt": 1733413019067,
    "lastExecutedByKernel": "0c59753e-c85f-4be2-b788-bb11ddf8047a",
    "lastScheduledRunId": null,
    "lastSuccessfullyExecutedCode": "crimes['TIME INT'] = crimes['TIME OCC'].astype(int)"
   },
   "outputs": [],
   "source": [
    "crimes['TIME INT'] = crimes['TIME OCC'].astype(int)"
   ]
  },
  {
   "cell_type": "code",
   "execution_count": 38,
   "id": "afb8a6d3-8147-4ea2-a7ca-4139abaf7106",
   "metadata": {
    "executionCancelledAt": null,
    "executionTime": 55,
    "lastExecutedAt": 1733413019122,
    "lastExecutedByKernel": "0c59753e-c85f-4be2-b788-bb11ddf8047a",
    "lastScheduledRunId": null,
    "lastSuccessfullyExecutedCode": "type(crimes)"
   },
   "outputs": [
    {
     "data": {
      "text/plain": [
       "pandas.core.frame.DataFrame"
      ]
     },
     "execution_count": 38,
     "metadata": {},
     "output_type": "execute_result"
    }
   ],
   "source": [
    "type(crimes)"
   ]
  },
  {
   "cell_type": "code",
   "execution_count": 39,
   "id": "22572a6b-84fe-420a-b8be-616d56999158",
   "metadata": {
    "executionCancelledAt": null,
    "executionTime": 49,
    "lastExecutedAt": 1733413019171,
    "lastExecutedByKernel": "0c59753e-c85f-4be2-b788-bb11ddf8047a",
    "lastScheduledRunId": null,
    "lastSuccessfullyExecutedCode": "crimes['Night'] = ~crimes['TIME INT'].between(400, 2200)"
   },
   "outputs": [],
   "source": [
    "crimes['Night'] = ~crimes['TIME INT'].between(400, 2200)"
   ]
  },
  {
   "cell_type": "code",
   "execution_count": 40,
   "id": "1e5827e9-6e0c-4438-8efa-3067f8155f3c",
   "metadata": {
    "executionCancelledAt": null,
    "executionTime": 48,
    "lastExecutedAt": 1733413019219,
    "lastExecutedByKernel": "0c59753e-c85f-4be2-b788-bb11ddf8047a",
    "lastScheduledRunId": null,
    "lastSuccessfullyExecutedCode": "night_crimes = crimes[crimes['Night'] == True]"
   },
   "outputs": [],
   "source": [
    "night_crimes = crimes[crimes['Night'] == True]"
   ]
  },
  {
   "cell_type": "code",
   "execution_count": 41,
   "id": "b82d260d-dd89-4ada-b70d-2bc998fd95b4",
   "metadata": {
    "executionCancelledAt": null,
    "executionTime": 52,
    "lastExecutedAt": 1733413019272,
    "lastExecutedByKernel": "0c59753e-c85f-4be2-b788-bb11ddf8047a",
    "lastScheduledRunId": null,
    "lastSuccessfullyExecutedCode": "area_frequencies = night_crimes.groupby('AREA NAME', as_index=False)['AREA NAME'].value_counts()"
   },
   "outputs": [],
   "source": [
    "area_frequencies = night_crimes.groupby('AREA NAME', as_index=False)['AREA NAME'].value_counts()"
   ]
  },
  {
   "cell_type": "code",
   "execution_count": 42,
   "id": "85219db3-9fc0-4847-a178-1305a5b83fa7",
   "metadata": {
    "executionCancelledAt": null,
    "executionTime": 55,
    "lastExecutedAt": 1733413019327,
    "lastExecutedByKernel": "0c59753e-c85f-4be2-b788-bb11ddf8047a",
    "lastScheduledRunId": null,
    "lastSuccessfullyExecutedCode": "area_frequencies",
    "outputsMetadata": {
     "0": {
      "height": 543,
      "type": "dataFrame"
     }
    }
   },
   "outputs": [
    {
     "data": {
      "application/com.datacamp.data-table.v2+json": {
       "table": {
        "data": {
         "AREA NAME": [
          "77th Street",
          "Central",
          "Devonshire",
          "Foothill",
          "Harbor",
          "Hollenbeck",
          "Hollywood",
          "Mission",
          "N Hollywood",
          "Newton",
          "Northeast",
          "Olympic",
          "Pacific",
          "Rampart",
          "Southeast",
          "Southwest",
          "Topanga",
          "Van Nuys",
          "West LA",
          "West Valley",
          "Wilshire"
         ],
         "count": [
          2377,
          3014,
          1207,
          1135,
          1258,
          1194,
          2490,
          1313,
          1691,
          2013,
          1506,
          1942,
          1724,
          1704,
          2073,
          2146,
          1329,
          1472,
          1259,
          1390,
          1552
         ],
         "index": [
          0,
          1,
          2,
          3,
          4,
          5,
          6,
          7,
          8,
          9,
          10,
          11,
          12,
          13,
          14,
          15,
          16,
          17,
          18,
          19,
          20
         ]
        },
        "schema": {
         "fields": [
          {
           "name": "index",
           "type": "integer"
          },
          {
           "name": "AREA NAME",
           "type": "string"
          },
          {
           "name": "count",
           "type": "integer"
          }
         ],
         "pandas_version": "1.4.0",
         "primaryKey": [
          "index"
         ]
        }
       },
       "total_rows": 21,
       "truncation_type": null
      },
      "text/html": [
       "<div>\n",
       "<style scoped>\n",
       "    .dataframe tbody tr th:only-of-type {\n",
       "        vertical-align: middle;\n",
       "    }\n",
       "\n",
       "    .dataframe tbody tr th {\n",
       "        vertical-align: top;\n",
       "    }\n",
       "\n",
       "    .dataframe thead th {\n",
       "        text-align: right;\n",
       "    }\n",
       "</style>\n",
       "<table border=\"1\" class=\"dataframe\">\n",
       "  <thead>\n",
       "    <tr style=\"text-align: right;\">\n",
       "      <th></th>\n",
       "      <th>AREA NAME</th>\n",
       "      <th>count</th>\n",
       "    </tr>\n",
       "  </thead>\n",
       "  <tbody>\n",
       "    <tr>\n",
       "      <th>0</th>\n",
       "      <td>77th Street</td>\n",
       "      <td>2377</td>\n",
       "    </tr>\n",
       "    <tr>\n",
       "      <th>1</th>\n",
       "      <td>Central</td>\n",
       "      <td>3014</td>\n",
       "    </tr>\n",
       "    <tr>\n",
       "      <th>2</th>\n",
       "      <td>Devonshire</td>\n",
       "      <td>1207</td>\n",
       "    </tr>\n",
       "    <tr>\n",
       "      <th>3</th>\n",
       "      <td>Foothill</td>\n",
       "      <td>1135</td>\n",
       "    </tr>\n",
       "    <tr>\n",
       "      <th>4</th>\n",
       "      <td>Harbor</td>\n",
       "      <td>1258</td>\n",
       "    </tr>\n",
       "    <tr>\n",
       "      <th>5</th>\n",
       "      <td>Hollenbeck</td>\n",
       "      <td>1194</td>\n",
       "    </tr>\n",
       "    <tr>\n",
       "      <th>6</th>\n",
       "      <td>Hollywood</td>\n",
       "      <td>2490</td>\n",
       "    </tr>\n",
       "    <tr>\n",
       "      <th>7</th>\n",
       "      <td>Mission</td>\n",
       "      <td>1313</td>\n",
       "    </tr>\n",
       "    <tr>\n",
       "      <th>8</th>\n",
       "      <td>N Hollywood</td>\n",
       "      <td>1691</td>\n",
       "    </tr>\n",
       "    <tr>\n",
       "      <th>9</th>\n",
       "      <td>Newton</td>\n",
       "      <td>2013</td>\n",
       "    </tr>\n",
       "    <tr>\n",
       "      <th>10</th>\n",
       "      <td>Northeast</td>\n",
       "      <td>1506</td>\n",
       "    </tr>\n",
       "    <tr>\n",
       "      <th>11</th>\n",
       "      <td>Olympic</td>\n",
       "      <td>1942</td>\n",
       "    </tr>\n",
       "    <tr>\n",
       "      <th>12</th>\n",
       "      <td>Pacific</td>\n",
       "      <td>1724</td>\n",
       "    </tr>\n",
       "    <tr>\n",
       "      <th>13</th>\n",
       "      <td>Rampart</td>\n",
       "      <td>1704</td>\n",
       "    </tr>\n",
       "    <tr>\n",
       "      <th>14</th>\n",
       "      <td>Southeast</td>\n",
       "      <td>2073</td>\n",
       "    </tr>\n",
       "    <tr>\n",
       "      <th>15</th>\n",
       "      <td>Southwest</td>\n",
       "      <td>2146</td>\n",
       "    </tr>\n",
       "    <tr>\n",
       "      <th>16</th>\n",
       "      <td>Topanga</td>\n",
       "      <td>1329</td>\n",
       "    </tr>\n",
       "    <tr>\n",
       "      <th>17</th>\n",
       "      <td>Van Nuys</td>\n",
       "      <td>1472</td>\n",
       "    </tr>\n",
       "    <tr>\n",
       "      <th>18</th>\n",
       "      <td>West LA</td>\n",
       "      <td>1259</td>\n",
       "    </tr>\n",
       "    <tr>\n",
       "      <th>19</th>\n",
       "      <td>West Valley</td>\n",
       "      <td>1390</td>\n",
       "    </tr>\n",
       "    <tr>\n",
       "      <th>20</th>\n",
       "      <td>Wilshire</td>\n",
       "      <td>1552</td>\n",
       "    </tr>\n",
       "  </tbody>\n",
       "</table>\n",
       "</div>"
      ],
      "text/plain": [
       "      AREA NAME  count\n",
       "0   77th Street   2377\n",
       "1       Central   3014\n",
       "2    Devonshire   1207\n",
       "3      Foothill   1135\n",
       "4        Harbor   1258\n",
       "5    Hollenbeck   1194\n",
       "6     Hollywood   2490\n",
       "7       Mission   1313\n",
       "8   N Hollywood   1691\n",
       "9        Newton   2013\n",
       "10    Northeast   1506\n",
       "11      Olympic   1942\n",
       "12      Pacific   1724\n",
       "13      Rampart   1704\n",
       "14    Southeast   2073\n",
       "15    Southwest   2146\n",
       "16      Topanga   1329\n",
       "17     Van Nuys   1472\n",
       "18      West LA   1259\n",
       "19  West Valley   1390\n",
       "20     Wilshire   1552"
      ]
     },
     "execution_count": 42,
     "metadata": {},
     "output_type": "execute_result"
    }
   ],
   "source": [
    "area_frequencies"
   ]
  },
  {
   "cell_type": "code",
   "execution_count": 43,
   "id": "92af7f8f-96ad-4e5c-8f95-462711f2216d",
   "metadata": {
    "executionCancelledAt": null,
    "executionTime": 48,
    "lastExecutedAt": 1733413019376,
    "lastExecutedByKernel": "0c59753e-c85f-4be2-b788-bb11ddf8047a",
    "lastScheduledRunId": null,
    "lastSuccessfullyExecutedCode": "peak_night_crime_location = area_frequencies[area_frequencies['count'] == area_frequencies['count'].max()]['AREA NAME'].values[0]"
   },
   "outputs": [],
   "source": [
    "peak_night_crime_location = area_frequencies[area_frequencies['count'] == area_frequencies['count'].max()]['AREA NAME'].values[0]"
   ]
  },
  {
   "cell_type": "code",
   "execution_count": 44,
   "id": "fbae4b69-49fa-4c1c-a1b1-e36ac342334c",
   "metadata": {
    "executionCancelledAt": null,
    "executionTime": 51,
    "lastExecutedAt": 1733413019427,
    "lastExecutedByKernel": "0c59753e-c85f-4be2-b788-bb11ddf8047a",
    "lastScheduledRunId": null,
    "lastSuccessfullyExecutedCode": "peak_night_crime_location"
   },
   "outputs": [
    {
     "data": {
      "text/plain": [
       "'Central'"
      ]
     },
     "execution_count": 44,
     "metadata": {},
     "output_type": "execute_result"
    }
   ],
   "source": [
    "peak_night_crime_location"
   ]
  },
  {
   "cell_type": "code",
   "execution_count": 45,
   "id": "7691abb4-88c3-410f-b872-63d58c880d2f",
   "metadata": {
    "executionCancelledAt": null,
    "executionTime": 52,
    "lastExecutedAt": 1733413019479,
    "lastExecutedByKernel": "0c59753e-c85f-4be2-b788-bb11ddf8047a",
    "lastScheduledRunId": null,
    "lastSuccessfullyExecutedCode": "bins = [0, 17, 25, 34, 44, 54, 64, 120]\nlabels = [\"0-17\", \"18-25\", \"26-34\", \"35-44\", \"45-54\", \"55-64\", \"65+\"]"
   },
   "outputs": [],
   "source": [
    "bins = [0, 17, 25, 34, 44, 54, 64, 120]\n",
    "labels = [\"0-17\", \"18-25\", \"26-34\", \"35-44\", \"45-54\", \"55-64\", \"65+\"]"
   ]
  },
  {
   "cell_type": "code",
   "execution_count": 46,
   "id": "bb38c7aa-1283-426b-9bae-3c250bfe0f36",
   "metadata": {
    "executionCancelledAt": null,
    "executionTime": 48,
    "lastExecutedAt": 1733413019527,
    "lastExecutedByKernel": "0c59753e-c85f-4be2-b788-bb11ddf8047a",
    "lastScheduledRunId": null,
    "lastSuccessfullyExecutedCode": "crimes['Age Group'] = pd.cut(x=crimes['Vict Age'], bins=bins, labels=labels)"
   },
   "outputs": [],
   "source": [
    "crimes['Age Group'] = pd.cut(x=crimes['Vict Age'], bins=bins, labels=labels)"
   ]
  },
  {
   "cell_type": "code",
   "execution_count": 47,
   "id": "2fd3a941-6c67-437a-b5cd-835f84f206c8",
   "metadata": {
    "executionCancelledAt": null,
    "executionTime": 49,
    "lastExecutedAt": 1733413019576,
    "lastExecutedByKernel": "0c59753e-c85f-4be2-b788-bb11ddf8047a",
    "lastScheduledRunId": null,
    "lastSuccessfullyExecutedCode": "victim_ages = crimes['Age Group'].value_counts()"
   },
   "outputs": [],
   "source": [
    "victim_ages = crimes['Age Group'].value_counts()"
   ]
  },
  {
   "cell_type": "code",
   "execution_count": 48,
   "id": "121151cf-3412-404c-95b0-1a320177c64d",
   "metadata": {
    "executionCancelledAt": null,
    "executionTime": null,
    "lastExecutedAt": null,
    "lastExecutedByKernel": null,
    "lastScheduledRunId": null,
    "lastSuccessfullyExecutedCode": null,
    "outputsMetadata": {
     "0": {
      "height": 304,
      "type": "dataFrame"
     }
    }
   },
   "outputs": [
    {
     "data": {
      "application/com.datacamp.data-table.v2+json": {
       "table": {
        "data": {
         "Age Group": [
          47470,
          42157,
          28353,
          28291,
          20169,
          14747,
          4528
         ],
         "index": [
          "26-34",
          "35-44",
          "45-54",
          "18-25",
          "55-64",
          "65+",
          "0-17"
         ]
        },
        "schema": {
         "fields": [
          {
           "constraints": {
            "enum": [
             "0-17",
             "18-25",
             "26-34",
             "35-44",
             "45-54",
             "55-64",
             "65+"
            ]
           },
           "name": "index",
           "ordered": true,
           "type": "any"
          },
          {
           "name": "Age Group",
           "type": "integer"
          }
         ],
         "pandas_version": "1.4.0",
         "primaryKey": [
          "index"
         ]
        }
       },
       "total_rows": 7,
       "truncation_type": null
      },
      "text/plain": [
       "26-34    47470\n",
       "35-44    42157\n",
       "45-54    28353\n",
       "18-25    28291\n",
       "55-64    20169\n",
       "65+      14747\n",
       "0-17      4528\n",
       "Name: Age Group, dtype: int64"
      ]
     },
     "execution_count": 48,
     "metadata": {},
     "output_type": "execute_result"
    }
   ],
   "source": [
    "victim_ages"
   ]
  },
  {
   "cell_type": "code",
   "execution_count": 49,
   "id": "0d19b149-c37f-4363-aa59-bdd668b4dc00",
   "metadata": {
    "executionCancelledAt": null,
    "executionTime": 52,
    "lastExecutedAt": 1733413019683,
    "lastExecutedByKernel": "0c59753e-c85f-4be2-b788-bb11ddf8047a",
    "lastScheduledRunId": null,
    "lastSuccessfullyExecutedCode": "type(victim_ages)",
    "outputsMetadata": {
     "0": {
      "height": 277,
      "type": "dataFrame"
     }
    }
   },
   "outputs": [
    {
     "data": {
      "text/plain": [
       "pandas.core.series.Series"
      ]
     },
     "execution_count": 49,
     "metadata": {},
     "output_type": "execute_result"
    }
   ],
   "source": [
    "type(victim_ages)"
   ]
  }
 ],
 "metadata": {
  "colab": {
   "name": "Welcome to DataCamp Workspaces.ipynb",
   "provenance": []
  },
  "kernelspec": {
   "display_name": "Python 3 (ipykernel)",
   "language": "python",
   "name": "python3"
  },
  "language_info": {
   "codemirror_mode": {
    "name": "ipython",
    "version": 3
   },
   "file_extension": ".py",
   "mimetype": "text/x-python",
   "name": "python",
   "nbconvert_exporter": "python",
   "pygments_lexer": "ipython3",
   "version": "3.9.7"
  }
 },
 "nbformat": 4,
 "nbformat_minor": 5
}
